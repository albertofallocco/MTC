{
 "cells": [
  {
   "cell_type": "markdown",
   "id": "7b6172a5",
   "metadata": {},
   "source": [
    "## MTC evaluation - part 1\n",
    "\n",
    "This serves as a baseline, for better understanding of MTC's functioning.\n",
    "\n",
    "### Summary\n",
    "\n",
    "- First initialization  \n",
    "\n",
    "- Preliminary assessment: \n",
    "    - parameter tuning, with k-fold cross validation\n",
    "    - comparison across *predict* methods \n",
    "\n",
    "### Main takeaways\n",
    "\n",
    "MTClassifier displayed satisfying results against rather challenging synthetic data.\n",
    "\n",
    "Parameter tuning highlighted that:\n",
    "   - when it comes to number of partitions and maximum tree depth: the higher the value of the parameter, the better the MCC score; \n",
    "   - the number of minimum instances required in a node does not significantly affect the classifier's performance;\n",
    "   - manhattan distance function is featured in the instance with the absolute best MCC - however, euclidean performs better overall;\n",
    "   - MTClustT instances allow for better performance than MTClust;\n",
    "    \n",
    "Hence, from now on MTC will be initialized with:\n",
    " - *n_parts* = 10\n",
    " - *max_depth* = 20\n",
    " - *min_instances* = 5\n",
    " - *use_binary_class* = True \n",
    " - *dist_func* = euclidean\n",
    "  \n",
    "Given that:\n",
    "   - *predict*, *predict_abs*, and *predict_basic* display very similar performances (all MCCs around 0.8)\n",
    "   - the other models we will use for comparison feature a *predict* method, as it is part of scikit-learn's default implementation\n",
    "     \n",
    "we will carry on with the analysis using MTC's *predict* for predictions.\n"
   ]
  },
  {
   "cell_type": "code",
   "execution_count": 3,
   "id": "cb559ece",
   "metadata": {
    "code_folding": [
     0
    ]
   },
   "outputs": [],
   "source": [
    "from MTC2 import MTClust, MTClustT, MTClassifier"
   ]
  },
  {
   "cell_type": "markdown",
   "id": "44cf1977",
   "metadata": {},
   "source": [
    "# 0. First initialization"
   ]
  },
  {
   "cell_type": "markdown",
   "id": "a6130669",
   "metadata": {},
   "source": [
    "Tried an instance of MTC on a **synthetic dataset**, generated with the *make_classification* function \n",
    "from scikit-learn.  \n",
    "\n",
    "MTC is initialized with random parameters.\n",
    "  \n",
    "Results:\n",
    "- MCC = 0.58;\n",
    "- CKS = 0.53.  "
   ]
  },
  {
   "cell_type": "code",
   "execution_count": 4,
   "id": "e81c4fe6",
   "metadata": {},
   "outputs": [],
   "source": [
    "#import libraries and packages\n",
    "import pandas as pd\n",
    "import numpy as np\n",
    "import matplotlib.pyplot as plt\n",
    "import seaborn as sns\n",
    "\n",
    "from random import shuffle, sample, seed\n",
    "\n",
    "from sklearn.datasets import make_classification\n",
    "from sklearn.model_selection import train_test_split, KFold\n",
    "from sklearn.metrics import f1_score, confusion_matrix, cohen_kappa_score, matthews_corrcoef\n",
    "from sklearn.preprocessing import StandardScaler\n"
   ]
  },
  {
   "cell_type": "code",
   "execution_count": 5,
   "id": "ca5145a6",
   "metadata": {},
   "outputs": [],
   "source": [
    "#create dataset \n",
    "X0, y0 = make_classification(\n",
    "    n_samples=10000,\n",
    "    n_features=20,\n",
    "    n_informative=2,\n",
    "    n_redundant=2,\n",
    "    \n",
    "    n_classes=2,\n",
    "    n_clusters_per_class=1,\n",
    "    weights=[0.3,0.7],\n",
    "    flip_y=0.02,\n",
    "    class_sep=0.5,\n",
    "    \n",
    "    random_state=42)\n",
    "\n",
    "#train/test split\n",
    "X0_train, X0_test, y0_train, y0_test = train_test_split(X0, y0, test_size=0.2, random_state=42)"
   ]
  },
  {
   "cell_type": "markdown",
   "id": "578ff020",
   "metadata": {},
   "source": [
    "On the dataset: parameters values such as:\n",
    "- ratio of meaningful features of 0.2\n",
    "- classes weights of 0.3 and 0.7\n",
    "- class separability index of 0.5 (low, default value is 1.0)\n",
    "\n",
    "are meant to recreate a real-world scenario."
   ]
  },
  {
   "cell_type": "code",
   "execution_count": 6,
   "id": "03f5904e",
   "metadata": {},
   "outputs": [
    {
     "name": "stdout",
     "output_type": "stream",
     "text": [
      "Binary classification\n"
     ]
    },
    {
     "data": {
      "text/plain": [
       "<MTC2.MTClassifier at 0x7f9f8873d0a0>"
      ]
     },
     "execution_count": 6,
     "metadata": {},
     "output_type": "execute_result"
    }
   ],
   "source": [
    "#initialize MTC and train to training test\n",
    "seed(6)\n",
    "mtc = MTClassifier(n_parts=10, max_depth=20, min_instances=5, use_binary_class=True, dist_func=\"euclidean\")\n",
    "\n",
    "mtc.fit(X0_train, y0_train)"
   ]
  },
  {
   "cell_type": "code",
   "execution_count": 7,
   "id": "739f7692",
   "metadata": {},
   "outputs": [
    {
     "name": "stdout",
     "output_type": "stream",
     "text": [
      "MCC: 0.529\n",
      "Cohen's Kappa Score: 0.475\n"
     ]
    }
   ],
   "source": [
    "#predict\n",
    "y0_pred = mtc.predict(X0_test)\n",
    "\n",
    "#compute MCC and CKS\n",
    "MCC = matthews_corrcoef(y0_test, y0_pred)\n",
    "print(\"MCC: {:.3f}\".format(MCC))\n",
    "      \n",
    "kappa_score = cohen_kappa_score(y0_test, y0_pred)\n",
    "print(\"Cohen's Kappa Score: {:.3f}\".format(kappa_score))"
   ]
  },
  {
   "cell_type": "code",
   "execution_count": 9,
   "id": "81f4fefb",
   "metadata": {},
   "outputs": [
    {
     "name": "stdout",
     "output_type": "stream",
     "text": [
      "Confusion Matrix:\n",
      "[[ 268  355]\n",
      " [  31 1346]]\n"
     ]
    }
   ],
   "source": [
    "print(\"Confusion Matrix:\")\n",
    "print(confusion_matrix(y0_test, y0_pred))"
   ]
  },
  {
   "cell_type": "markdown",
   "id": "bef9fcd3",
   "metadata": {},
   "source": [
    "# 1. Preliminary assessment"
   ]
  },
  {
   "cell_type": "markdown",
   "id": "1080f5d6",
   "metadata": {},
   "source": [
    "## 1.1 Parameter tuning"
   ]
  },
  {
   "cell_type": "markdown",
   "id": "2b6e8196",
   "metadata": {},
   "source": [
    "**!**: Tried GridSearchCV: doesn't work because there's no *get_params* method in MTClassifier (more in the report).  \n",
    "  \n",
    "Again, performed on synthetic data, duly scaled with *StandardScaler*.\n",
    "1. **Grid** is created to store parameters to be tried\n",
    "    - dictionary (parameters are keys, parameter values are values)\n",
    "    - this allows in a number of parameter combinations for MTC to be initialized with   \n",
    "2. **K-fold cross-validation** is set up  \n",
    "3. For each parameter combination:\n",
    "    - MTC is run *k* times\n",
    "    - **Average MCC** across the *k* folds is computed\n",
    "    - and stored in a Pandas dataframe     \n",
    "4. Eventually, combination with **best** average **MCC** is **retrieved** \n",
    "5. **Results** are **visualized**\n",
    "    - Distributions of MCC scores\n",
    "        - absolute\n",
    "        - by parameter\n",
    "    - Heatmaps  \n",
    "    - Pairplots   "
   ]
  },
  {
   "cell_type": "code",
   "execution_count": 10,
   "id": "46cd9acd",
   "metadata": {},
   "outputs": [],
   "source": [
    "#create dataset\n",
    "seed(10)\n",
    "X, y = make_classification(\n",
    "    n_samples=10000,\n",
    "    n_features=20,\n",
    "    n_informative=5,\n",
    "    n_redundant=2,\n",
    "    \n",
    "    n_classes=2,\n",
    "    n_clusters_per_class=1,\n",
    "    weights=[0.33,0.67],\n",
    "    flip_y=0.02,\n",
    "    class_sep=0.65,\n",
    "    \n",
    "    random_state=42)\n",
    "\n",
    "#train/test split\n",
    "X_train, X_test, y_train, y_test = train_test_split(X, y, test_size=0.2, random_state=42)\n",
    "\n",
    "#data scaling\n",
    "scaler = StandardScaler().fit(X_train)\n",
    "\n",
    "X_train = scaler.transform(X_train)\n",
    "X_test = scaler.transform(X_test)"
   ]
  },
  {
   "cell_type": "code",
   "execution_count": 11,
   "id": "02daf015",
   "metadata": {},
   "outputs": [],
   "source": [
    "#create parameters grid\n",
    "parameter_grid = {\n",
    "    'n_parts': [3, 5, 10],\n",
    "    'max_depth': [5, 10, 20], \n",
    "    'min_instances': [5, 15, 25], \n",
    "    'use_binary_class': [True, False],\n",
    "    'dist_func': ['euclidean', 'manhattan', 'jaccard']\n",
    "}"
   ]
  },
  {
   "cell_type": "code",
   "execution_count": 12,
   "id": "0a881d72",
   "metadata": {
    "code_folding": []
   },
   "outputs": [
    {
     "name": "stdout",
     "output_type": "stream",
     "text": [
      "Trying parameters: {'n_parts': 3, 'max_depth': 5, 'min_instances': 5, 'use_binary_class': True, 'dist_func': 'euclidean'}\n",
      "Binary classification\n",
      "Binary classification\n",
      "Binary classification\n",
      "Binary classification\n",
      "Average MCC: 0.4958379593323195\n",
      "Trying parameters: {'n_parts': 3, 'max_depth': 5, 'min_instances': 5, 'use_binary_class': True, 'dist_func': 'manhattan'}\n",
      "Binary classification\n",
      "Binary classification\n",
      "Binary classification\n",
      "Binary classification\n",
      "Average MCC: 0.48418608162476007\n",
      "Trying parameters: {'n_parts': 3, 'max_depth': 5, 'min_instances': 5, 'use_binary_class': True, 'dist_func': 'jaccard'}\n",
      "Binary classification\n",
      "Binary classification\n",
      "Binary classification\n",
      "Binary classification\n",
      "Average MCC: 0.13867242220420545\n",
      "Trying parameters: {'n_parts': 3, 'max_depth': 5, 'min_instances': 5, 'use_binary_class': False, 'dist_func': 'euclidean'}\n",
      "Average MCC: 0.4226644553816896\n",
      "Trying parameters: {'n_parts': 3, 'max_depth': 5, 'min_instances': 5, 'use_binary_class': False, 'dist_func': 'manhattan'}\n",
      "Average MCC: 0.39209434744235855\n",
      "Trying parameters: {'n_parts': 3, 'max_depth': 5, 'min_instances': 5, 'use_binary_class': False, 'dist_func': 'jaccard'}\n",
      "Average MCC: 0.05924261379896314\n",
      "Trying parameters: {'n_parts': 3, 'max_depth': 5, 'min_instances': 15, 'use_binary_class': True, 'dist_func': 'euclidean'}\n",
      "Binary classification\n",
      "Binary classification\n",
      "Binary classification\n",
      "Binary classification\n",
      "Average MCC: 0.4958379593323195\n",
      "Trying parameters: {'n_parts': 3, 'max_depth': 5, 'min_instances': 15, 'use_binary_class': True, 'dist_func': 'manhattan'}\n",
      "Binary classification\n",
      "Binary classification\n",
      "Binary classification\n",
      "Binary classification\n",
      "Average MCC: 0.48418608162476007\n",
      "Trying parameters: {'n_parts': 3, 'max_depth': 5, 'min_instances': 15, 'use_binary_class': True, 'dist_func': 'jaccard'}\n",
      "Binary classification\n",
      "Binary classification\n",
      "Binary classification\n",
      "Binary classification\n",
      "Average MCC: 0.13867242220420545\n",
      "Trying parameters: {'n_parts': 3, 'max_depth': 5, 'min_instances': 15, 'use_binary_class': False, 'dist_func': 'euclidean'}\n",
      "Average MCC: 0.42300513547749685\n",
      "Trying parameters: {'n_parts': 3, 'max_depth': 5, 'min_instances': 15, 'use_binary_class': False, 'dist_func': 'manhattan'}\n",
      "Average MCC: 0.3916910664947553\n",
      "Trying parameters: {'n_parts': 3, 'max_depth': 5, 'min_instances': 15, 'use_binary_class': False, 'dist_func': 'jaccard'}\n",
      "Average MCC: 0.05940467562425307\n",
      "Trying parameters: {'n_parts': 3, 'max_depth': 5, 'min_instances': 25, 'use_binary_class': True, 'dist_func': 'euclidean'}\n",
      "Binary classification\n",
      "Binary classification\n",
      "Binary classification\n",
      "Binary classification\n",
      "Average MCC: 0.4958379593323195\n",
      "Trying parameters: {'n_parts': 3, 'max_depth': 5, 'min_instances': 25, 'use_binary_class': True, 'dist_func': 'manhattan'}\n",
      "Binary classification\n",
      "Binary classification\n",
      "Binary classification\n",
      "Binary classification\n",
      "Average MCC: 0.48418608162476007\n",
      "Trying parameters: {'n_parts': 3, 'max_depth': 5, 'min_instances': 25, 'use_binary_class': True, 'dist_func': 'jaccard'}\n",
      "Binary classification\n",
      "Binary classification\n",
      "Binary classification\n",
      "Binary classification\n",
      "Average MCC: 0.13867242220420545\n",
      "Trying parameters: {'n_parts': 3, 'max_depth': 5, 'min_instances': 25, 'use_binary_class': False, 'dist_func': 'euclidean'}\n",
      "Average MCC: 0.4226306978769662\n",
      "Trying parameters: {'n_parts': 3, 'max_depth': 5, 'min_instances': 25, 'use_binary_class': False, 'dist_func': 'manhattan'}\n",
      "Average MCC: 0.38968762853681105\n",
      "Trying parameters: {'n_parts': 3, 'max_depth': 5, 'min_instances': 25, 'use_binary_class': False, 'dist_func': 'jaccard'}\n",
      "Average MCC: 0.05850209802611252\n",
      "Trying parameters: {'n_parts': 3, 'max_depth': 10, 'min_instances': 5, 'use_binary_class': True, 'dist_func': 'euclidean'}\n",
      "Binary classification\n",
      "Binary classification\n",
      "Binary classification\n",
      "Binary classification\n",
      "Average MCC: 0.5918654594161824\n",
      "Trying parameters: {'n_parts': 3, 'max_depth': 10, 'min_instances': 5, 'use_binary_class': True, 'dist_func': 'manhattan'}\n",
      "Binary classification\n",
      "Binary classification\n",
      "Binary classification\n",
      "Binary classification\n",
      "Average MCC: 0.589122482869136\n",
      "Trying parameters: {'n_parts': 3, 'max_depth': 10, 'min_instances': 5, 'use_binary_class': True, 'dist_func': 'jaccard'}\n",
      "Binary classification\n",
      "Binary classification\n",
      "Binary classification\n",
      "Binary classification\n",
      "Average MCC: 0.2825274685328585\n",
      "Trying parameters: {'n_parts': 3, 'max_depth': 10, 'min_instances': 5, 'use_binary_class': False, 'dist_func': 'euclidean'}\n",
      "Average MCC: 0.5241959705228926\n",
      "Trying parameters: {'n_parts': 3, 'max_depth': 10, 'min_instances': 5, 'use_binary_class': False, 'dist_func': 'manhattan'}\n",
      "Average MCC: 0.5149831110622047\n",
      "Trying parameters: {'n_parts': 3, 'max_depth': 10, 'min_instances': 5, 'use_binary_class': False, 'dist_func': 'jaccard'}\n",
      "Average MCC: 0.19859700340862613\n",
      "Trying parameters: {'n_parts': 3, 'max_depth': 10, 'min_instances': 15, 'use_binary_class': True, 'dist_func': 'euclidean'}\n",
      "Binary classification\n",
      "Binary classification\n",
      "Binary classification\n",
      "Binary classification\n",
      "Average MCC: 0.5918654594161824\n",
      "Trying parameters: {'n_parts': 3, 'max_depth': 10, 'min_instances': 15, 'use_binary_class': True, 'dist_func': 'manhattan'}\n",
      "Binary classification\n",
      "Binary classification\n",
      "Binary classification\n",
      "Binary classification\n",
      "Average MCC: 0.589122482869136\n",
      "Trying parameters: {'n_parts': 3, 'max_depth': 10, 'min_instances': 15, 'use_binary_class': True, 'dist_func': 'jaccard'}\n",
      "Binary classification\n",
      "Binary classification\n",
      "Binary classification\n",
      "Binary classification\n",
      "Average MCC: 0.2825274685328585\n",
      "Trying parameters: {'n_parts': 3, 'max_depth': 10, 'min_instances': 15, 'use_binary_class': False, 'dist_func': 'euclidean'}\n",
      "Average MCC: 0.5309154125229256\n",
      "Trying parameters: {'n_parts': 3, 'max_depth': 10, 'min_instances': 15, 'use_binary_class': False, 'dist_func': 'manhattan'}\n",
      "Average MCC: 0.5112966238485012\n",
      "Trying parameters: {'n_parts': 3, 'max_depth': 10, 'min_instances': 15, 'use_binary_class': False, 'dist_func': 'jaccard'}\n",
      "Average MCC: 0.20387513539240038\n",
      "Trying parameters: {'n_parts': 3, 'max_depth': 10, 'min_instances': 25, 'use_binary_class': True, 'dist_func': 'euclidean'}\n",
      "Binary classification\n",
      "Binary classification\n",
      "Binary classification\n",
      "Binary classification\n",
      "Average MCC: 0.5918654594161824\n",
      "Trying parameters: {'n_parts': 3, 'max_depth': 10, 'min_instances': 25, 'use_binary_class': True, 'dist_func': 'manhattan'}\n",
      "Binary classification\n",
      "Binary classification\n",
      "Binary classification\n",
      "Binary classification\n",
      "Average MCC: 0.589122482869136\n",
      "Trying parameters: {'n_parts': 3, 'max_depth': 10, 'min_instances': 25, 'use_binary_class': True, 'dist_func': 'jaccard'}\n",
      "Binary classification\n",
      "Binary classification\n",
      "Binary classification\n",
      "Binary classification\n",
      "Average MCC: 0.2825274685328585\n",
      "Trying parameters: {'n_parts': 3, 'max_depth': 10, 'min_instances': 25, 'use_binary_class': False, 'dist_func': 'euclidean'}\n",
      "Average MCC: 0.5329377050233002\n",
      "Trying parameters: {'n_parts': 3, 'max_depth': 10, 'min_instances': 25, 'use_binary_class': False, 'dist_func': 'manhattan'}\n",
      "Average MCC: 0.508726004157029\n",
      "Trying parameters: {'n_parts': 3, 'max_depth': 10, 'min_instances': 25, 'use_binary_class': False, 'dist_func': 'jaccard'}\n",
      "Average MCC: 0.2111370169259095\n",
      "Trying parameters: {'n_parts': 3, 'max_depth': 20, 'min_instances': 5, 'use_binary_class': True, 'dist_func': 'euclidean'}\n",
      "Binary classification\n",
      "Binary classification\n",
      "Binary classification\n",
      "Binary classification\n",
      "Average MCC: 0.5971923830711663\n",
      "Trying parameters: {'n_parts': 3, 'max_depth': 20, 'min_instances': 5, 'use_binary_class': True, 'dist_func': 'manhattan'}\n",
      "Binary classification\n",
      "Binary classification\n",
      "Binary classification\n",
      "Binary classification\n",
      "Average MCC: 0.6061239541474245\n",
      "Trying parameters: {'n_parts': 3, 'max_depth': 20, 'min_instances': 5, 'use_binary_class': True, 'dist_func': 'jaccard'}\n",
      "Binary classification\n",
      "Binary classification\n",
      "Binary classification\n",
      "Binary classification\n",
      "Average MCC: 0.3906393153378553\n",
      "Trying parameters: {'n_parts': 3, 'max_depth': 20, 'min_instances': 5, 'use_binary_class': False, 'dist_func': 'euclidean'}\n",
      "Average MCC: 0.5255628649179125\n",
      "Trying parameters: {'n_parts': 3, 'max_depth': 20, 'min_instances': 5, 'use_binary_class': False, 'dist_func': 'manhattan'}\n",
      "Average MCC: 0.5377574426727543\n",
      "Trying parameters: {'n_parts': 3, 'max_depth': 20, 'min_instances': 5, 'use_binary_class': False, 'dist_func': 'jaccard'}\n"
     ]
    },
    {
     "name": "stdout",
     "output_type": "stream",
     "text": [
      "Average MCC: 0.3089746577305885\n",
      "Trying parameters: {'n_parts': 3, 'max_depth': 20, 'min_instances': 15, 'use_binary_class': True, 'dist_func': 'euclidean'}\n",
      "Binary classification\n",
      "Binary classification\n",
      "Binary classification\n",
      "Binary classification\n",
      "Average MCC: 0.5971923830711663\n",
      "Trying parameters: {'n_parts': 3, 'max_depth': 20, 'min_instances': 15, 'use_binary_class': True, 'dist_func': 'manhattan'}\n",
      "Binary classification\n",
      "Binary classification\n",
      "Binary classification\n",
      "Binary classification\n",
      "Average MCC: 0.6061239541474245\n",
      "Trying parameters: {'n_parts': 3, 'max_depth': 20, 'min_instances': 15, 'use_binary_class': True, 'dist_func': 'jaccard'}\n",
      "Binary classification\n",
      "Binary classification\n",
      "Binary classification\n",
      "Binary classification\n",
      "Average MCC: 0.3906393153378553\n",
      "Trying parameters: {'n_parts': 3, 'max_depth': 20, 'min_instances': 15, 'use_binary_class': False, 'dist_func': 'euclidean'}\n",
      "Average MCC: 0.5465036481064026\n",
      "Trying parameters: {'n_parts': 3, 'max_depth': 20, 'min_instances': 15, 'use_binary_class': False, 'dist_func': 'manhattan'}\n",
      "Average MCC: 0.5274485720529745\n",
      "Trying parameters: {'n_parts': 3, 'max_depth': 20, 'min_instances': 15, 'use_binary_class': False, 'dist_func': 'jaccard'}\n",
      "Average MCC: 0.32573140831014447\n",
      "Trying parameters: {'n_parts': 3, 'max_depth': 20, 'min_instances': 25, 'use_binary_class': True, 'dist_func': 'euclidean'}\n",
      "Binary classification\n",
      "Binary classification\n",
      "Binary classification\n",
      "Binary classification\n",
      "Average MCC: 0.5971923830711663\n",
      "Trying parameters: {'n_parts': 3, 'max_depth': 20, 'min_instances': 25, 'use_binary_class': True, 'dist_func': 'manhattan'}\n",
      "Binary classification\n",
      "Binary classification\n",
      "Binary classification\n",
      "Binary classification\n",
      "Average MCC: 0.6061239541474245\n",
      "Trying parameters: {'n_parts': 3, 'max_depth': 20, 'min_instances': 25, 'use_binary_class': True, 'dist_func': 'jaccard'}\n",
      "Binary classification\n",
      "Binary classification\n",
      "Binary classification\n",
      "Binary classification\n",
      "Average MCC: 0.3906393153378553\n",
      "Trying parameters: {'n_parts': 3, 'max_depth': 20, 'min_instances': 25, 'use_binary_class': False, 'dist_func': 'euclidean'}\n",
      "Average MCC: 0.5423503218337721\n",
      "Trying parameters: {'n_parts': 3, 'max_depth': 20, 'min_instances': 25, 'use_binary_class': False, 'dist_func': 'manhattan'}\n",
      "Average MCC: 0.5184420788675712\n",
      "Trying parameters: {'n_parts': 3, 'max_depth': 20, 'min_instances': 25, 'use_binary_class': False, 'dist_func': 'jaccard'}\n",
      "Average MCC: 0.3186098958004685\n",
      "Trying parameters: {'n_parts': 5, 'max_depth': 5, 'min_instances': 5, 'use_binary_class': True, 'dist_func': 'euclidean'}\n",
      "Binary classification\n",
      "Binary classification\n",
      "Binary classification\n",
      "Binary classification\n",
      "Average MCC: 0.5138527678620161\n",
      "Trying parameters: {'n_parts': 5, 'max_depth': 5, 'min_instances': 5, 'use_binary_class': True, 'dist_func': 'manhattan'}\n",
      "Binary classification\n",
      "Binary classification\n",
      "Binary classification\n",
      "Binary classification\n",
      "Average MCC: 0.5066579489866329\n",
      "Trying parameters: {'n_parts': 5, 'max_depth': 5, 'min_instances': 5, 'use_binary_class': True, 'dist_func': 'jaccard'}\n",
      "Binary classification\n",
      "Binary classification\n",
      "Binary classification\n",
      "Binary classification\n",
      "Average MCC: 0.1472940683705059\n",
      "Trying parameters: {'n_parts': 5, 'max_depth': 5, 'min_instances': 5, 'use_binary_class': False, 'dist_func': 'euclidean'}\n",
      "Average MCC: 0.4459860260092017\n",
      "Trying parameters: {'n_parts': 5, 'max_depth': 5, 'min_instances': 5, 'use_binary_class': False, 'dist_func': 'manhattan'}\n",
      "Average MCC: 0.4223292303488788\n",
      "Trying parameters: {'n_parts': 5, 'max_depth': 5, 'min_instances': 5, 'use_binary_class': False, 'dist_func': 'jaccard'}\n",
      "Average MCC: 0.057423707239533966\n",
      "Trying parameters: {'n_parts': 5, 'max_depth': 5, 'min_instances': 15, 'use_binary_class': True, 'dist_func': 'euclidean'}\n",
      "Binary classification\n",
      "Binary classification\n",
      "Binary classification\n",
      "Binary classification\n",
      "Average MCC: 0.5138527678620161\n",
      "Trying parameters: {'n_parts': 5, 'max_depth': 5, 'min_instances': 15, 'use_binary_class': True, 'dist_func': 'manhattan'}\n",
      "Binary classification\n",
      "Binary classification\n",
      "Binary classification\n",
      "Binary classification\n",
      "Average MCC: 0.5066579489866329\n",
      "Trying parameters: {'n_parts': 5, 'max_depth': 5, 'min_instances': 15, 'use_binary_class': True, 'dist_func': 'jaccard'}\n",
      "Binary classification\n",
      "Binary classification\n",
      "Binary classification\n",
      "Binary classification\n",
      "Average MCC: 0.1472940683705059\n",
      "Trying parameters: {'n_parts': 5, 'max_depth': 5, 'min_instances': 15, 'use_binary_class': False, 'dist_func': 'euclidean'}\n",
      "Average MCC: 0.4459860260092017\n",
      "Trying parameters: {'n_parts': 5, 'max_depth': 5, 'min_instances': 15, 'use_binary_class': False, 'dist_func': 'manhattan'}\n",
      "Average MCC: 0.42196725333319135\n",
      "Trying parameters: {'n_parts': 5, 'max_depth': 5, 'min_instances': 15, 'use_binary_class': False, 'dist_func': 'jaccard'}\n",
      "Average MCC: 0.03944584153734517\n",
      "Trying parameters: {'n_parts': 5, 'max_depth': 5, 'min_instances': 25, 'use_binary_class': True, 'dist_func': 'euclidean'}\n",
      "Binary classification\n",
      "Binary classification\n",
      "Binary classification\n",
      "Binary classification\n",
      "Average MCC: 0.5138527678620161\n",
      "Trying parameters: {'n_parts': 5, 'max_depth': 5, 'min_instances': 25, 'use_binary_class': True, 'dist_func': 'manhattan'}\n",
      "Binary classification\n",
      "Binary classification\n",
      "Binary classification\n",
      "Binary classification\n",
      "Average MCC: 0.5066579489866329\n",
      "Trying parameters: {'n_parts': 5, 'max_depth': 5, 'min_instances': 25, 'use_binary_class': True, 'dist_func': 'jaccard'}\n",
      "Binary classification\n",
      "Binary classification\n",
      "Binary classification\n",
      "Binary classification\n",
      "Average MCC: 0.1472940683705059\n",
      "Trying parameters: {'n_parts': 5, 'max_depth': 5, 'min_instances': 25, 'use_binary_class': False, 'dist_func': 'euclidean'}\n",
      "Average MCC: 0.4445136649816972\n",
      "Trying parameters: {'n_parts': 5, 'max_depth': 5, 'min_instances': 25, 'use_binary_class': False, 'dist_func': 'manhattan'}\n",
      "Average MCC: 0.4212318027225172\n",
      "Trying parameters: {'n_parts': 5, 'max_depth': 5, 'min_instances': 25, 'use_binary_class': False, 'dist_func': 'jaccard'}\n",
      "Average MCC: 0.03451218514146958\n",
      "Trying parameters: {'n_parts': 5, 'max_depth': 10, 'min_instances': 5, 'use_binary_class': True, 'dist_func': 'euclidean'}\n",
      "Binary classification\n",
      "Binary classification\n",
      "Binary classification\n",
      "Binary classification\n",
      "Average MCC: 0.6189797427250516\n",
      "Trying parameters: {'n_parts': 5, 'max_depth': 10, 'min_instances': 5, 'use_binary_class': True, 'dist_func': 'manhattan'}\n",
      "Binary classification\n",
      "Binary classification\n",
      "Binary classification\n",
      "Binary classification\n",
      "Average MCC: 0.6254891915933101\n",
      "Trying parameters: {'n_parts': 5, 'max_depth': 10, 'min_instances': 5, 'use_binary_class': True, 'dist_func': 'jaccard'}\n",
      "Binary classification\n",
      "Binary classification\n",
      "Binary classification\n",
      "Binary classification\n",
      "Average MCC: 0.266766392042765\n",
      "Trying parameters: {'n_parts': 5, 'max_depth': 10, 'min_instances': 5, 'use_binary_class': False, 'dist_func': 'euclidean'}\n",
      "Average MCC: 0.5678354063767772\n",
      "Trying parameters: {'n_parts': 5, 'max_depth': 10, 'min_instances': 5, 'use_binary_class': False, 'dist_func': 'manhattan'}\n",
      "Average MCC: 0.5564988202146993\n",
      "Trying parameters: {'n_parts': 5, 'max_depth': 10, 'min_instances': 5, 'use_binary_class': False, 'dist_func': 'jaccard'}\n",
      "Average MCC: 0.1946301444697822\n",
      "Trying parameters: {'n_parts': 5, 'max_depth': 10, 'min_instances': 15, 'use_binary_class': True, 'dist_func': 'euclidean'}\n",
      "Binary classification\n",
      "Binary classification\n",
      "Binary classification\n",
      "Binary classification\n",
      "Average MCC: 0.6189797427250516\n",
      "Trying parameters: {'n_parts': 5, 'max_depth': 10, 'min_instances': 15, 'use_binary_class': True, 'dist_func': 'manhattan'}\n",
      "Binary classification\n",
      "Binary classification\n",
      "Binary classification\n",
      "Binary classification\n",
      "Average MCC: 0.6254891915933101\n",
      "Trying parameters: {'n_parts': 5, 'max_depth': 10, 'min_instances': 15, 'use_binary_class': True, 'dist_func': 'jaccard'}\n",
      "Binary classification\n",
      "Binary classification\n",
      "Binary classification\n",
      "Binary classification\n",
      "Average MCC: 0.266766392042765\n",
      "Trying parameters: {'n_parts': 5, 'max_depth': 10, 'min_instances': 15, 'use_binary_class': False, 'dist_func': 'euclidean'}\n",
      "Average MCC: 0.5589389908920532\n",
      "Trying parameters: {'n_parts': 5, 'max_depth': 10, 'min_instances': 15, 'use_binary_class': False, 'dist_func': 'manhattan'}\n"
     ]
    },
    {
     "name": "stdout",
     "output_type": "stream",
     "text": [
      "Average MCC: 0.543242680131962\n",
      "Trying parameters: {'n_parts': 5, 'max_depth': 10, 'min_instances': 15, 'use_binary_class': False, 'dist_func': 'jaccard'}\n",
      "Average MCC: 0.19088704828068342\n",
      "Trying parameters: {'n_parts': 5, 'max_depth': 10, 'min_instances': 25, 'use_binary_class': True, 'dist_func': 'euclidean'}\n",
      "Binary classification\n",
      "Binary classification\n",
      "Binary classification\n",
      "Binary classification\n",
      "Average MCC: 0.6189797427250516\n",
      "Trying parameters: {'n_parts': 5, 'max_depth': 10, 'min_instances': 25, 'use_binary_class': True, 'dist_func': 'manhattan'}\n",
      "Binary classification\n",
      "Binary classification\n",
      "Binary classification\n",
      "Binary classification\n",
      "Average MCC: 0.6254891915933101\n",
      "Trying parameters: {'n_parts': 5, 'max_depth': 10, 'min_instances': 25, 'use_binary_class': True, 'dist_func': 'jaccard'}\n",
      "Binary classification\n",
      "Binary classification\n",
      "Binary classification\n",
      "Binary classification\n",
      "Average MCC: 0.266766392042765\n",
      "Trying parameters: {'n_parts': 5, 'max_depth': 10, 'min_instances': 25, 'use_binary_class': False, 'dist_func': 'euclidean'}\n",
      "Average MCC: 0.5506742120708514\n",
      "Trying parameters: {'n_parts': 5, 'max_depth': 10, 'min_instances': 25, 'use_binary_class': False, 'dist_func': 'manhattan'}\n",
      "Average MCC: 0.5299811394298226\n",
      "Trying parameters: {'n_parts': 5, 'max_depth': 10, 'min_instances': 25, 'use_binary_class': False, 'dist_func': 'jaccard'}\n",
      "Average MCC: 0.18906086741810083\n",
      "Trying parameters: {'n_parts': 5, 'max_depth': 20, 'min_instances': 5, 'use_binary_class': True, 'dist_func': 'euclidean'}\n",
      "Binary classification\n",
      "Binary classification\n",
      "Binary classification\n",
      "Binary classification\n",
      "Average MCC: 0.6490451487092104\n",
      "Trying parameters: {'n_parts': 5, 'max_depth': 20, 'min_instances': 5, 'use_binary_class': True, 'dist_func': 'manhattan'}\n",
      "Binary classification\n",
      "Binary classification\n",
      "Binary classification\n",
      "Binary classification\n",
      "Average MCC: 0.6472953967819544\n",
      "Trying parameters: {'n_parts': 5, 'max_depth': 20, 'min_instances': 5, 'use_binary_class': True, 'dist_func': 'jaccard'}\n",
      "Binary classification\n",
      "Binary classification\n",
      "Binary classification\n",
      "Binary classification\n",
      "Average MCC: 0.4101020960151185\n",
      "Trying parameters: {'n_parts': 5, 'max_depth': 20, 'min_instances': 5, 'use_binary_class': False, 'dist_func': 'euclidean'}\n",
      "Average MCC: 0.5900183764743229\n",
      "Trying parameters: {'n_parts': 5, 'max_depth': 20, 'min_instances': 5, 'use_binary_class': False, 'dist_func': 'manhattan'}\n",
      "Average MCC: 0.5842569195662655\n",
      "Trying parameters: {'n_parts': 5, 'max_depth': 20, 'min_instances': 5, 'use_binary_class': False, 'dist_func': 'jaccard'}\n",
      "Average MCC: 0.34894628743922257\n",
      "Trying parameters: {'n_parts': 5, 'max_depth': 20, 'min_instances': 15, 'use_binary_class': True, 'dist_func': 'euclidean'}\n",
      "Binary classification\n",
      "Binary classification\n",
      "Binary classification\n",
      "Binary classification\n",
      "Average MCC: 0.6490451487092104\n",
      "Trying parameters: {'n_parts': 5, 'max_depth': 20, 'min_instances': 15, 'use_binary_class': True, 'dist_func': 'manhattan'}\n",
      "Binary classification\n",
      "Binary classification\n",
      "Binary classification\n",
      "Binary classification\n",
      "Average MCC: 0.6472953967819544\n",
      "Trying parameters: {'n_parts': 5, 'max_depth': 20, 'min_instances': 15, 'use_binary_class': True, 'dist_func': 'jaccard'}\n",
      "Binary classification\n",
      "Binary classification\n",
      "Binary classification\n",
      "Binary classification\n",
      "Average MCC: 0.4101020960151185\n",
      "Trying parameters: {'n_parts': 5, 'max_depth': 20, 'min_instances': 15, 'use_binary_class': False, 'dist_func': 'euclidean'}\n",
      "Average MCC: 0.585319129819011\n",
      "Trying parameters: {'n_parts': 5, 'max_depth': 20, 'min_instances': 15, 'use_binary_class': False, 'dist_func': 'manhattan'}\n",
      "Average MCC: 0.5649757578799859\n",
      "Trying parameters: {'n_parts': 5, 'max_depth': 20, 'min_instances': 15, 'use_binary_class': False, 'dist_func': 'jaccard'}\n",
      "Average MCC: 0.36149295162068096\n",
      "Trying parameters: {'n_parts': 5, 'max_depth': 20, 'min_instances': 25, 'use_binary_class': True, 'dist_func': 'euclidean'}\n",
      "Binary classification\n",
      "Binary classification\n",
      "Binary classification\n",
      "Binary classification\n",
      "Average MCC: 0.6490451487092104\n",
      "Trying parameters: {'n_parts': 5, 'max_depth': 20, 'min_instances': 25, 'use_binary_class': True, 'dist_func': 'manhattan'}\n",
      "Binary classification\n",
      "Binary classification\n",
      "Binary classification\n",
      "Binary classification\n",
      "Average MCC: 0.6472953967819544\n",
      "Trying parameters: {'n_parts': 5, 'max_depth': 20, 'min_instances': 25, 'use_binary_class': True, 'dist_func': 'jaccard'}\n",
      "Binary classification\n",
      "Binary classification\n",
      "Binary classification\n",
      "Binary classification\n",
      "Average MCC: 0.4101020960151185\n",
      "Trying parameters: {'n_parts': 5, 'max_depth': 20, 'min_instances': 25, 'use_binary_class': False, 'dist_func': 'euclidean'}\n",
      "Average MCC: 0.5750252701695512\n",
      "Trying parameters: {'n_parts': 5, 'max_depth': 20, 'min_instances': 25, 'use_binary_class': False, 'dist_func': 'manhattan'}\n",
      "Average MCC: 0.5492449169212643\n",
      "Trying parameters: {'n_parts': 5, 'max_depth': 20, 'min_instances': 25, 'use_binary_class': False, 'dist_func': 'jaccard'}\n",
      "Average MCC: 0.35531663578096284\n",
      "Trying parameters: {'n_parts': 10, 'max_depth': 5, 'min_instances': 5, 'use_binary_class': True, 'dist_func': 'euclidean'}\n",
      "Binary classification\n",
      "Binary classification\n",
      "Binary classification\n",
      "Binary classification\n",
      "Average MCC: 0.532168952869799\n",
      "Trying parameters: {'n_parts': 10, 'max_depth': 5, 'min_instances': 5, 'use_binary_class': True, 'dist_func': 'manhattan'}\n",
      "Binary classification\n",
      "Binary classification\n",
      "Binary classification\n",
      "Binary classification\n",
      "Average MCC: 0.5387593761469267\n",
      "Trying parameters: {'n_parts': 10, 'max_depth': 5, 'min_instances': 5, 'use_binary_class': True, 'dist_func': 'jaccard'}\n",
      "Binary classification\n",
      "Binary classification\n",
      "Binary classification\n",
      "Binary classification\n",
      "Average MCC: 0.1157600588513871\n",
      "Trying parameters: {'n_parts': 10, 'max_depth': 5, 'min_instances': 5, 'use_binary_class': False, 'dist_func': 'euclidean'}\n",
      "Average MCC: 0.47125284384208554\n",
      "Trying parameters: {'n_parts': 10, 'max_depth': 5, 'min_instances': 5, 'use_binary_class': False, 'dist_func': 'manhattan'}\n",
      "Average MCC: 0.45821474222005926\n",
      "Trying parameters: {'n_parts': 10, 'max_depth': 5, 'min_instances': 5, 'use_binary_class': False, 'dist_func': 'jaccard'}\n",
      "Average MCC: 0.04649278170220673\n",
      "Trying parameters: {'n_parts': 10, 'max_depth': 5, 'min_instances': 15, 'use_binary_class': True, 'dist_func': 'euclidean'}\n",
      "Binary classification\n",
      "Binary classification\n",
      "Binary classification\n",
      "Binary classification\n",
      "Average MCC: 0.532168952869799\n",
      "Trying parameters: {'n_parts': 10, 'max_depth': 5, 'min_instances': 15, 'use_binary_class': True, 'dist_func': 'manhattan'}\n",
      "Binary classification\n",
      "Binary classification\n",
      "Binary classification\n",
      "Binary classification\n",
      "Average MCC: 0.5387593761469267\n",
      "Trying parameters: {'n_parts': 10, 'max_depth': 5, 'min_instances': 15, 'use_binary_class': True, 'dist_func': 'jaccard'}\n",
      "Binary classification\n",
      "Binary classification\n",
      "Binary classification\n",
      "Binary classification\n",
      "Average MCC: 0.1157600588513871\n",
      "Trying parameters: {'n_parts': 10, 'max_depth': 5, 'min_instances': 15, 'use_binary_class': False, 'dist_func': 'euclidean'}\n",
      "Average MCC: 0.4709186058548691\n",
      "Trying parameters: {'n_parts': 10, 'max_depth': 5, 'min_instances': 15, 'use_binary_class': False, 'dist_func': 'manhattan'}\n",
      "Average MCC: 0.4583866201621854\n",
      "Trying parameters: {'n_parts': 10, 'max_depth': 5, 'min_instances': 15, 'use_binary_class': False, 'dist_func': 'jaccard'}\n",
      "Average MCC: 0.03801193160605324\n",
      "Trying parameters: {'n_parts': 10, 'max_depth': 5, 'min_instances': 25, 'use_binary_class': True, 'dist_func': 'euclidean'}\n",
      "Binary classification\n",
      "Binary classification\n",
      "Binary classification\n",
      "Binary classification\n",
      "Average MCC: 0.532168952869799\n",
      "Trying parameters: {'n_parts': 10, 'max_depth': 5, 'min_instances': 25, 'use_binary_class': True, 'dist_func': 'manhattan'}\n",
      "Binary classification\n",
      "Binary classification\n",
      "Binary classification\n",
      "Binary classification\n",
      "Average MCC: 0.5387593761469267\n",
      "Trying parameters: {'n_parts': 10, 'max_depth': 5, 'min_instances': 25, 'use_binary_class': True, 'dist_func': 'jaccard'}\n",
      "Binary classification\n",
      "Binary classification\n",
      "Binary classification\n",
      "Binary classification\n",
      "Average MCC: 0.1157600588513871\n",
      "Trying parameters: {'n_parts': 10, 'max_depth': 5, 'min_instances': 25, 'use_binary_class': False, 'dist_func': 'euclidean'}\n"
     ]
    },
    {
     "name": "stdout",
     "output_type": "stream",
     "text": [
      "Average MCC: 0.4692417306870227\n",
      "Trying parameters: {'n_parts': 10, 'max_depth': 5, 'min_instances': 25, 'use_binary_class': False, 'dist_func': 'manhattan'}\n",
      "Average MCC: 0.4583866201621854\n",
      "Trying parameters: {'n_parts': 10, 'max_depth': 5, 'min_instances': 25, 'use_binary_class': False, 'dist_func': 'jaccard'}\n",
      "Average MCC: 0.02914655594067692\n",
      "Trying parameters: {'n_parts': 10, 'max_depth': 10, 'min_instances': 5, 'use_binary_class': True, 'dist_func': 'euclidean'}\n",
      "Binary classification\n",
      "Binary classification\n",
      "Binary classification\n",
      "Binary classification\n",
      "Average MCC: 0.6484379037116053\n",
      "Trying parameters: {'n_parts': 10, 'max_depth': 10, 'min_instances': 5, 'use_binary_class': True, 'dist_func': 'manhattan'}\n",
      "Binary classification\n",
      "Binary classification\n",
      "Binary classification\n",
      "Binary classification\n",
      "Average MCC: 0.6612804656952603\n",
      "Trying parameters: {'n_parts': 10, 'max_depth': 10, 'min_instances': 5, 'use_binary_class': True, 'dist_func': 'jaccard'}\n",
      "Binary classification\n",
      "Binary classification\n",
      "Binary classification\n",
      "Binary classification\n",
      "Average MCC: 0.24474081859491553\n",
      "Trying parameters: {'n_parts': 10, 'max_depth': 10, 'min_instances': 5, 'use_binary_class': False, 'dist_func': 'euclidean'}\n",
      "Average MCC: 0.5958316241564842\n",
      "Trying parameters: {'n_parts': 10, 'max_depth': 10, 'min_instances': 5, 'use_binary_class': False, 'dist_func': 'manhattan'}\n",
      "Average MCC: 0.575193728300411\n",
      "Trying parameters: {'n_parts': 10, 'max_depth': 10, 'min_instances': 5, 'use_binary_class': False, 'dist_func': 'jaccard'}\n",
      "Average MCC: 0.20746070371400982\n",
      "Trying parameters: {'n_parts': 10, 'max_depth': 10, 'min_instances': 15, 'use_binary_class': True, 'dist_func': 'euclidean'}\n",
      "Binary classification\n",
      "Binary classification\n",
      "Binary classification\n",
      "Binary classification\n",
      "Average MCC: 0.6484379037116053\n",
      "Trying parameters: {'n_parts': 10, 'max_depth': 10, 'min_instances': 15, 'use_binary_class': True, 'dist_func': 'manhattan'}\n",
      "Binary classification\n",
      "Binary classification\n",
      "Binary classification\n",
      "Binary classification\n",
      "Average MCC: 0.6612804656952603\n",
      "Trying parameters: {'n_parts': 10, 'max_depth': 10, 'min_instances': 15, 'use_binary_class': True, 'dist_func': 'jaccard'}\n",
      "Binary classification\n",
      "Binary classification\n",
      "Binary classification\n",
      "Binary classification\n",
      "Average MCC: 0.24474081859491553\n",
      "Trying parameters: {'n_parts': 10, 'max_depth': 10, 'min_instances': 15, 'use_binary_class': False, 'dist_func': 'euclidean'}\n",
      "Average MCC: 0.5868431470674798\n",
      "Trying parameters: {'n_parts': 10, 'max_depth': 10, 'min_instances': 15, 'use_binary_class': False, 'dist_func': 'manhattan'}\n",
      "Average MCC: 0.5680280590353968\n",
      "Trying parameters: {'n_parts': 10, 'max_depth': 10, 'min_instances': 15, 'use_binary_class': False, 'dist_func': 'jaccard'}\n",
      "Average MCC: 0.1932344529803467\n",
      "Trying parameters: {'n_parts': 10, 'max_depth': 10, 'min_instances': 25, 'use_binary_class': True, 'dist_func': 'euclidean'}\n",
      "Binary classification\n",
      "Binary classification\n",
      "Binary classification\n",
      "Binary classification\n",
      "Average MCC: 0.6484379037116053\n",
      "Trying parameters: {'n_parts': 10, 'max_depth': 10, 'min_instances': 25, 'use_binary_class': True, 'dist_func': 'manhattan'}\n",
      "Binary classification\n",
      "Binary classification\n",
      "Binary classification\n",
      "Binary classification\n",
      "Average MCC: 0.6612804656952603\n",
      "Trying parameters: {'n_parts': 10, 'max_depth': 10, 'min_instances': 25, 'use_binary_class': True, 'dist_func': 'jaccard'}\n",
      "Binary classification\n",
      "Binary classification\n",
      "Binary classification\n",
      "Binary classification\n",
      "Average MCC: 0.24474081859491553\n",
      "Trying parameters: {'n_parts': 10, 'max_depth': 10, 'min_instances': 25, 'use_binary_class': False, 'dist_func': 'euclidean'}\n",
      "Average MCC: 0.5734521461727267\n",
      "Trying parameters: {'n_parts': 10, 'max_depth': 10, 'min_instances': 25, 'use_binary_class': False, 'dist_func': 'manhattan'}\n",
      "Average MCC: 0.5575128842943755\n",
      "Trying parameters: {'n_parts': 10, 'max_depth': 10, 'min_instances': 25, 'use_binary_class': False, 'dist_func': 'jaccard'}\n",
      "Average MCC: 0.1803034353819305\n",
      "Trying parameters: {'n_parts': 10, 'max_depth': 20, 'min_instances': 5, 'use_binary_class': True, 'dist_func': 'euclidean'}\n",
      "Binary classification\n",
      "Binary classification\n",
      "Binary classification\n",
      "Binary classification\n",
      "Average MCC: 0.6764163312811106\n",
      "Trying parameters: {'n_parts': 10, 'max_depth': 20, 'min_instances': 5, 'use_binary_class': True, 'dist_func': 'manhattan'}\n",
      "Binary classification\n",
      "Binary classification\n",
      "Binary classification\n",
      "Binary classification\n",
      "Average MCC: 0.6869557336101944\n",
      "Trying parameters: {'n_parts': 10, 'max_depth': 20, 'min_instances': 5, 'use_binary_class': True, 'dist_func': 'jaccard'}\n",
      "Binary classification\n",
      "Binary classification\n",
      "Binary classification\n",
      "Binary classification\n",
      "Average MCC: 0.42598371815321145\n",
      "Trying parameters: {'n_parts': 10, 'max_depth': 20, 'min_instances': 5, 'use_binary_class': False, 'dist_func': 'euclidean'}\n",
      "Average MCC: 0.6223458328608721\n",
      "Trying parameters: {'n_parts': 10, 'max_depth': 20, 'min_instances': 5, 'use_binary_class': False, 'dist_func': 'manhattan'}\n",
      "Average MCC: 0.6093692600224474\n",
      "Trying parameters: {'n_parts': 10, 'max_depth': 20, 'min_instances': 5, 'use_binary_class': False, 'dist_func': 'jaccard'}\n",
      "Average MCC: 0.3893462252099209\n",
      "Trying parameters: {'n_parts': 10, 'max_depth': 20, 'min_instances': 15, 'use_binary_class': True, 'dist_func': 'euclidean'}\n",
      "Binary classification\n",
      "Binary classification\n",
      "Binary classification\n",
      "Binary classification\n",
      "Average MCC: 0.6764163312811106\n",
      "Trying parameters: {'n_parts': 10, 'max_depth': 20, 'min_instances': 15, 'use_binary_class': True, 'dist_func': 'manhattan'}\n",
      "Binary classification\n",
      "Binary classification\n",
      "Binary classification\n",
      "Binary classification\n",
      "Average MCC: 0.6869557336101944\n",
      "Trying parameters: {'n_parts': 10, 'max_depth': 20, 'min_instances': 15, 'use_binary_class': True, 'dist_func': 'jaccard'}\n",
      "Binary classification\n",
      "Binary classification\n",
      "Binary classification\n",
      "Binary classification\n",
      "Average MCC: 0.42598371815321145\n",
      "Trying parameters: {'n_parts': 10, 'max_depth': 20, 'min_instances': 15, 'use_binary_class': False, 'dist_func': 'euclidean'}\n",
      "Average MCC: 0.6049387729311497\n",
      "Trying parameters: {'n_parts': 10, 'max_depth': 20, 'min_instances': 15, 'use_binary_class': False, 'dist_func': 'manhattan'}\n",
      "Average MCC: 0.5902702347273768\n",
      "Trying parameters: {'n_parts': 10, 'max_depth': 20, 'min_instances': 15, 'use_binary_class': False, 'dist_func': 'jaccard'}\n",
      "Average MCC: 0.38583489852918806\n",
      "Trying parameters: {'n_parts': 10, 'max_depth': 20, 'min_instances': 25, 'use_binary_class': True, 'dist_func': 'euclidean'}\n",
      "Binary classification\n",
      "Binary classification\n",
      "Binary classification\n",
      "Binary classification\n",
      "Average MCC: 0.6764163312811106\n",
      "Trying parameters: {'n_parts': 10, 'max_depth': 20, 'min_instances': 25, 'use_binary_class': True, 'dist_func': 'manhattan'}\n",
      "Binary classification\n",
      "Binary classification\n",
      "Binary classification\n",
      "Binary classification\n",
      "Average MCC: 0.6869557336101944\n",
      "Trying parameters: {'n_parts': 10, 'max_depth': 20, 'min_instances': 25, 'use_binary_class': True, 'dist_func': 'jaccard'}\n",
      "Binary classification\n",
      "Binary classification\n",
      "Binary classification\n",
      "Binary classification\n",
      "Average MCC: 0.42598371815321145\n",
      "Trying parameters: {'n_parts': 10, 'max_depth': 20, 'min_instances': 25, 'use_binary_class': False, 'dist_func': 'euclidean'}\n",
      "Average MCC: 0.586026677534979\n",
      "Trying parameters: {'n_parts': 10, 'max_depth': 20, 'min_instances': 25, 'use_binary_class': False, 'dist_func': 'manhattan'}\n",
      "Average MCC: 0.573542844776655\n",
      "Trying parameters: {'n_parts': 10, 'max_depth': 20, 'min_instances': 25, 'use_binary_class': False, 'dist_func': 'jaccard'}\n",
      "Average MCC: 0.38097078000536677\n",
      "Best Parameters: {'n_parts': 10, 'max_depth': 20, 'min_instances': 5, 'use_binary_class': True, 'dist_func': 'manhattan', 'MCC': 0.6869557336101944}\n",
      "Best Average MCC: 0.6869557336101944\n"
     ]
    }
   ],
   "source": [
    "#create Pandas dataframe to store results for each parameter combination\n",
    "results_df = pd.DataFrame(columns=['n_parts', 'max_depth', 'min_instances', \n",
    "                                   'use_binary_class', 'dist_func', 'MCC'])\n",
    "\n",
    "#kfold setup \n",
    "n_folds = 4\n",
    "kf = KFold(n_splits=n_folds, shuffle=True, random_state=42)\n",
    "\n",
    "best_params = None\n",
    "best_MCC = 0\n",
    "\n",
    "from itertools import product\n",
    "\n",
    "#create parameter dictionary from grid\n",
    "for params in product(*parameter_grid.values()):\n",
    "    param_dict = dict(zip(parameter_grid.keys(), params))\n",
    "    print(\"Trying parameters:\", param_dict)\n",
    "\n",
    "    #initializing cumulative MCC score for current parameter combination\n",
    "    cumulative_MCC = 0\n",
    "\n",
    "    #iterating over k folds\n",
    "    for train_index, val_index in kf.split(X_train, y_train):\n",
    "        X_train_fold, X_val_fold = X_train[train_index], X_train[val_index]\n",
    "        y_train_fold, y_val_fold = y_train[train_index], y_train[val_index]\n",
    "\n",
    "        #initialize MTC and train on train fold\n",
    "        seed(11)\n",
    "        mtcPT = MTClassifier(**param_dict)\n",
    "        mtcPT.fit(X_train_fold, y_train_fold)\n",
    "\n",
    "        #predict on validation fold, compute MCC\n",
    "        y_pred_fold = mtcPT.predict(X_val_fold)\n",
    "        cumulative_MCC += matthews_corrcoef(y_val_fold, y_pred_fold)\n",
    "    \n",
    "          \n",
    "    #calculate average MCC for current parameter combination\n",
    "    average_MCC = cumulative_MCC / n_folds\n",
    "    print(\"Average MCC:\", average_MCC)\n",
    "\n",
    "     #store results in the Pandas dataframe\n",
    "    param_dict['MCC'] = average_MCC\n",
    "    results_df = pd.concat([results_df, pd.DataFrame([param_dict])], ignore_index=True)\n",
    "     \n",
    "    #if current model is better, update best parameters\n",
    "    if average_MCC > best_MCC:\n",
    "        best_MCC = average_MCC\n",
    "        best_params = param_dict\n",
    "\n",
    "print(\"Best Parameters:\", best_params)\n",
    "print(\"Best Average MCC:\", best_MCC)\n"
   ]
  },
  {
   "cell_type": "markdown",
   "id": "bbc9fa54",
   "metadata": {},
   "source": [
    "**Best parameter combination** is:\n",
    "\n",
    "- *n_parts* = 10\n",
    "- *max_depth* = 20\n",
    "- *min_instances* = 5\n",
    "- *use_binary_class* = True \n",
    "- *dist_func* = manhattan\n",
    "\n",
    "Average **MCC** associated: **0.69**\n"
   ]
  },
  {
   "cell_type": "markdown",
   "id": "7c60cebe",
   "metadata": {},
   "source": [
    "## 1.2 Visualizing results"
   ]
  },
  {
   "cell_type": "markdown",
   "id": "777b1f14",
   "metadata": {},
   "source": [
    "### Overall"
   ]
  },
  {
   "cell_type": "code",
   "execution_count": 31,
   "id": "114791fd",
   "metadata": {},
   "outputs": [
    {
     "data": {
      "image/png": "[encoded data removed]",
      "text/plain": [
       "<Figure size 432x288 with 1 Axes>"
      ]
     },
     "metadata": {
      "needs_background": "light"
     },
     "output_type": "display_data"
    }
   ],
   "source": [
    "#distribution of MCC scores\n",
    "sns.histplot(data=results_df, x='MCC', bins=30, kde=True)\n",
    "\n",
    "plt.title('Distribution of Average MCC Scores')\n",
    "plt.xlabel('Average MCC Score')\n",
    "plt.ylabel('Frequency')\n",
    "\n",
    "plt.show()"
   ]
  },
  {
   "cell_type": "markdown",
   "id": "ad563e4a",
   "metadata": {},
   "source": [
    "### Number of partitions, maximum depth\n",
    "\n",
    "We can see that:\n",
    "- the greater the number of partitions\n",
    "- the higher the maximum depth of the tree\n",
    "\n",
    "the higher the MCC."
   ]
  },
  {
   "cell_type": "code",
   "execution_count": 66,
   "id": "94ea613c",
   "metadata": {},
   "outputs": [
    {
     "data": {
      "image/png": "[encoded data removed]",
      "text/plain": [
       "<Figure size 432x288 with 2 Axes>"
      ]
     },
     "metadata": {
      "needs_background": "light"
     },
     "output_type": "display_data"
    }
   ],
   "source": [
    "#heatmap for minimum instances over number of partitions\n",
    "import matplotlib.colors as mcolors\n",
    "\n",
    "colors = [\"teal\", \"mediumseagreen\", \"orange\"]\n",
    "cmap_name = \"custom_diverging\"\n",
    "cm = mcolors.LinearSegmentedColormap.from_list(cmap_name, colors, N=100)\n",
    "\n",
    "pivot_table = results_df.pivot_table(values='MCC', index='n_parts', columns='max_depth', aggfunc='mean')\n",
    "\n",
    "sns.heatmap(pivot_table, annot=True, cmap=cm)\n",
    "plt.title('Average MCC Score Heatmap')\n",
    "plt.xlabel('Minimum Instances')\n",
    "plt.ylabel('N of Partitions')\n",
    "\n",
    "plt.show()"
   ]
  },
  {
   "cell_type": "code",
   "execution_count": 51,
   "id": "ef94d292",
   "metadata": {},
   "outputs": [
    {
     "data": {
      "image/png": "[encoded data removed]",
      "text/plain": [
       "<Figure size 576x288 with 1 Axes>"
      ]
     },
     "metadata": {
      "needs_background": "light"
     },
     "output_type": "display_data"
    }
   ],
   "source": [
    "#boxplots by number of partitions\n",
    "\n",
    "plt.figure(figsize=(8, 4))\n",
    "sns.boxplot(x='n_parts', y='MCC', data=results_df, palette=['teal','orange','mediumseagreen'])\n",
    "\n",
    "plt.title('Distribution of MCC Scores by number of partitions')\n",
    "plt.xlabel('N of Partitions')\n",
    "plt.ylabel('MCC Score')\n",
    "\n",
    "plt.show()"
   ]
  },
  {
   "cell_type": "code",
   "execution_count": 50,
   "id": "ccc4b9a0",
   "metadata": {},
   "outputs": [
    {
     "data": {
      "image/png": "[encoded data removed]",
      "text/plain": [
       "<Figure size 576x288 with 1 Axes>"
      ]
     },
     "metadata": {
      "needs_background": "light"
     },
     "output_type": "display_data"
    }
   ],
   "source": [
    "#boxplots by maximum depth\n",
    "\n",
    "plt.figure(figsize=(8, 4)) \n",
    "sns.boxplot(x='max_depth', y='MCC', data=results_df, palette=['teal','orange','mediumseagreen'])\n",
    "\n",
    "plt.title('Distribution of MCC Scores by maximum depth')\n",
    "plt.xlabel('Max Depth')\n",
    "plt.ylabel('MCC Score')\n",
    "\n",
    "plt.show()"
   ]
  },
  {
   "cell_type": "markdown",
   "id": "7ca17c65",
   "metadata": {},
   "source": [
    "### Minimum instances\n",
    "\n",
    "On the other hand, the number of minimum instances required in a node doesn't seem to significantly influence the MCC."
   ]
  },
  {
   "cell_type": "code",
   "execution_count": 67,
   "id": "28e1408b",
   "metadata": {},
   "outputs": [
    {
     "data": {
      "image/png": "[encoded data removed]",
      "text/plain": [
       "<Figure size 432x288 with 2 Axes>"
      ]
     },
     "metadata": {
      "needs_background": "light"
     },
     "output_type": "display_data"
    }
   ],
   "source": [
    "#heatmap for minimum instances over number of partitions\n",
    "import matplotlib.colors as mcolors\n",
    "\n",
    "colors = [\"teal\", \"mediumseagreen\", \"orange\"]\n",
    "cmap_name = \"custom_diverging\"\n",
    "cm = mcolors.LinearSegmentedColormap.from_list(cmap_name, colors, N=100)\n",
    "\n",
    "pivot_table = results_df.pivot_table(values='MCC', index='n_parts', columns='min_instances', aggfunc='mean')\n",
    "\n",
    "sns.heatmap(pivot_table, annot=True, cmap=cm)\n",
    "plt.title('Average MCC Score Heatmap')\n",
    "plt.xlabel('Minimum Instances')\n",
    "plt.ylabel('N of Partitions')\n",
    "\n",
    "plt.show()"
   ]
  },
  {
   "cell_type": "code",
   "execution_count": 52,
   "id": "a540db64",
   "metadata": {
    "scrolled": false
   },
   "outputs": [
    {
     "data": {
      "image/png": "[encoded data removed]",
      "text/plain": [
       "<Figure size 576x288 with 1 Axes>"
      ]
     },
     "metadata": {
      "needs_background": "light"
     },
     "output_type": "display_data"
    }
   ],
   "source": [
    "#boxplots by minimum instances\n",
    "\n",
    "plt.figure(figsize=(8, 4)) \n",
    "sns.boxplot(x='min_instances', y='MCC', data=results_df, palette=['teal','orange','mediumseagreen'])\n",
    "\n",
    "plt.title('Distribution of MCC Scores by minimum instances')\n",
    "plt.xlabel('Min_instances')\n",
    "plt.ylabel('MCC Score')\n",
    "\n",
    "plt.show()"
   ]
  },
  {
   "cell_type": "markdown",
   "id": "aeb44b23",
   "metadata": {},
   "source": [
    "### Distance function\n",
    "\n",
    "Best are manhattan and euclidean."
   ]
  },
  {
   "cell_type": "code",
   "execution_count": 53,
   "id": "60b573c6",
   "metadata": {},
   "outputs": [
    {
     "data": {
      "image/png": "[encoded data removed]",
      "text/plain": [
       "<Figure size 576x288 with 1 Axes>"
      ]
     },
     "metadata": {
      "needs_background": "light"
     },
     "output_type": "display_data"
    }
   ],
   "source": [
    "#boxplots by distance function\n",
    "\n",
    "plt.figure(figsize=(8, 4)) \n",
    "sns.boxplot(x='dist_func', y='MCC', data=results_df, palette=['teal','orange','mediumseagreen'])\n",
    "\n",
    "plt.title('Distribution of MCC Scores by distance function')\n",
    "plt.xlabel('Distance Function')\n",
    "plt.ylabel('MCC Score')\n",
    "\n",
    "plt.show()"
   ]
  },
  {
   "cell_type": "markdown",
   "id": "bd4634e4",
   "metadata": {},
   "source": [
    "### MTClust vs MTClustT\n",
    "\n",
    "The pairplot shows how results for instances of the target-oriented classifier are consistently better. "
   ]
  },
  {
   "cell_type": "code",
   "execution_count": 47,
   "id": "46ad7f54",
   "metadata": {
    "scrolled": true
   },
   "outputs": [
    {
     "data": {
      "image/png": "[encoded data removed]",
      "text/plain": [
       "<Figure size 632.375x540 with 12 Axes>"
      ]
     },
     "metadata": {
      "needs_background": "light"
     },
     "output_type": "display_data"
    }
   ],
   "source": [
    "#pairplot for binary_class\n",
    "sns.pairplot(data=results_df, vars=['n_parts', 'max_depth', 'MCC'], hue='use_binary_class', palette=['teal','orange'])\n",
    "\n",
    "plt.show()"
   ]
  },
  {
   "cell_type": "markdown",
   "id": "110b97cc",
   "metadata": {},
   "source": [
    "## 1.3 *Predict* methods comparison\n",
    "\n",
    "MTClassifier features **four different methods** for prediction (see *MTC_code_descr*).\n",
    "\n",
    "However, **MCCs** for predictions resulting from the different methods are **not significantly different**. \n",
    "  \n",
    "For this reason, we decided to carry on with the analysis implementing the *predict* method, as it is the one used by the machine learning algorithm we are going to evaluate MTClassifier against. "
   ]
  },
  {
   "cell_type": "code",
   "execution_count": 26,
   "id": "c61ac4be",
   "metadata": {
    "code_folding": []
   },
   "outputs": [
    {
     "name": "stdout",
     "output_type": "stream",
     "text": [
      "Binary classification\n",
      "  1 partition\n",
      "  2 partition\n",
      "  3 partition\n",
      "  4 partition\n",
      "  5 partition\n",
      "  6 partition\n",
      "  7 partition\n",
      "  8 partition\n",
      "  9 partition\n",
      " 10 partition\n"
     ]
    },
    {
     "data": {
      "text/plain": [
       "<MTC2.MTClassifier at 0x7f9f89a67df0>"
      ]
     },
     "execution_count": 26,
     "metadata": {},
     "output_type": "execute_result"
    }
   ],
   "source": [
    "#create dataset\n",
    "seed(10)\n",
    "X_pm, y_pm = make_classification(\n",
    "    n_samples=30000,\n",
    "    n_features=20,\n",
    "    n_informative=4,\n",
    "    \n",
    "    n_classes=2,\n",
    "    n_clusters_per_class=1,\n",
    "    weights=[0.3, 0.7], \n",
    "    class_sep=0.6, \n",
    "    \n",
    "    random_state=42)\n",
    "\n",
    "#train/test split\n",
    "X_train_pm, X_test_pm, y_train_pm, y_test_pm = train_test_split(X_pm, y_pm, test_size=0.2, random_state=42)\n",
    "\n",
    "\n",
    "#initialize MTC with best parameters, then fit\n",
    "mtc = MTClassifier(n_parts=10, max_depth=20, min_instances=5, use_binary_class=True, dist_func='euclidean')\n",
    "mtc.fit(X_train_pm, y_train_pm, verbose=True)"
   ]
  },
  {
   "cell_type": "code",
   "execution_count": 27,
   "id": "c15be617",
   "metadata": {},
   "outputs": [
    {
     "name": "stdout",
     "output_type": "stream",
     "text": [
      "MCC using predict_basic: 67.80%\n",
      "MCC using predict_abs: 67.87%\n",
      "MCC using predict: 67.92%\n"
     ]
    }
   ],
   "source": [
    "#predicting with MTC's different prediction methods \n",
    "y_pred_basic = mtc.predict_basic(X_test_pm)\n",
    "mcc_basic = matthews_corrcoef(y_test_pm, y_pred_basic)\n",
    "print(f\"MCC using predict_basic: {mcc_basic*100:.2f}%\")\n",
    "\n",
    "y_pred_abs = mtc.predict_abs(X_test_pm)\n",
    "mcc_abs = matthews_corrcoef(y_test_pm, y_pred_abs)\n",
    "print(f\"MCC using predict_abs: {mcc_abs*100:.2f}%\")\n",
    "\n",
    "y_pred = mtc.predict(X_test_pm)\n",
    "mcc = matthews_corrcoef(y_test_pm, y_pred)\n",
    "print(f\"MCC using predict: {mcc*100:.2f}%\")"
   ]
  },
  {
   "cell_type": "code",
   "execution_count": 28,
   "id": "0c98878b",
   "metadata": {},
   "outputs": [
    {
     "name": "stdout",
     "output_type": "stream",
     "text": [
      "Probabilities for test sample 1: [1.14360308e-10 1.00000000e+00]\n",
      "Probabilities for test sample 2: [2.44315945e-17 1.00000000e+00]\n",
      "Probabilities for test sample 3: [5.19773985e-17 1.00000000e+00]\n",
      "Probabilities for test sample 4: [1.00000000e+00 2.20277362e-11]\n",
      "Probabilities for test sample 5: [2.35899576e-10 1.00000000e+00]\n"
     ]
    }
   ],
   "source": [
    "y_pred_proba = mtc.predict_proba(X_test_pm)\n",
    "\n",
    "for i, probs in enumerate(y_pred_proba[:5]):\n",
    "    print(f\"Probabilities for test sample {i+1}: {probs}\")"
   ]
  },
  {
   "cell_type": "code",
   "execution_count": 29,
   "id": "858ebf2f",
   "metadata": {
    "scrolled": true
   },
   "outputs": [
    {
     "data": {
      "image/png": "[encoded data removed]",
      "text/plain": [
       "<Figure size 1296x360 with 6 Axes>"
      ]
     },
     "metadata": {
      "needs_background": "light"
     },
     "output_type": "display_data"
    }
   ],
   "source": [
    "#check for datatype of inputs\n",
    "y_pred_basic = np.array(y_pred_basic).astype(int)\n",
    "y_pred_abs = np.array(y_pred_abs).astype(int)\n",
    "y_pred = np.array(y_pred).astype(int)\n",
    "\n",
    "#create confusion matrices for each prediction method\n",
    "cm_basic = confusion_matrix(y_test_pm, y_pred_basic)\n",
    "cm_abs = confusion_matrix(y_test_pm, y_pred_abs)\n",
    "cm = confusion_matrix(y_test_pm, y_pred)\n",
    "\n",
    "\n",
    "#plot\n",
    "fig, axs = plt.subplots(1, 3, figsize=(18, 5))\n",
    "fig.suptitle('Confusion Matrices over Prediction Methods', fontsize=16)\n",
    "\n",
    "\n",
    "sns.heatmap(cm_basic, annot=True, fmt='g', ax=axs[0], cmap='Blues')\n",
    "axs[0].set_title('predict_basic')\n",
    "axs[0].set_xlabel('Predicted')\n",
    "axs[0].set_ylabel('True')\n",
    "\n",
    "sns.heatmap(cm_abs, annot=True, fmt='g', ax=axs[1], cmap='Blues')\n",
    "axs[1].set_title('predict_abs')\n",
    "axs[1].set_xlabel('Predicted')\n",
    "axs[1].set_ylabel('True')\n",
    "\n",
    "sns.heatmap(cm, annot=True, fmt='g', ax=axs[2], cmap='Blues')\n",
    "axs[2].set_title('predict')\n",
    "axs[2].set_xlabel('Predicted')\n",
    "axs[2].set_ylabel('True')\n",
    "\n",
    "plt.tight_layout(rect=[0, 0.03, 1, 0.95])\n",
    "\n",
    "plt.show()"
   ]
  },
  {
   "cell_type": "code",
   "execution_count": null,
   "id": "a255714f",
   "metadata": {},
   "outputs": [],
   "source": []
  }
 ],
 "metadata": {
  "kernelspec": {
   "display_name": "Python 3 (ipykernel)",
   "language": "python",
   "name": "python3"
  },
  "language_info": {
   "codemirror_mode": {
    "name": "ipython",
    "version": 3
   },
   "file_extension": ".py",
   "mimetype": "text/x-python",
   "name": "python",
   "nbconvert_exporter": "python",
   "pygments_lexer": "ipython3",
   "version": "3.9.12"
  },
  "toc": {
   "base_numbering": 1,
   "nav_menu": {},
   "number_sections": true,
   "sideBar": true,
   "skip_h1_title": false,
   "title_cell": "Table of Contents",
   "title_sidebar": "Contents",
   "toc_cell": false,
   "toc_position": {},
   "toc_section_display": true,
   "toc_window_display": false
  },
  "varInspector": {
   "cols": {
    "lenName": 16,
    "lenType": 16,
    "lenVar": 40
   },
   "kernels_config": {
    "python": {
     "delete_cmd_postfix": "",
     "delete_cmd_prefix": "del ",
     "library": "var_list.py",
     "varRefreshCmd": "print(var_dic_list())"
    },
    "r": {
     "delete_cmd_postfix": ") ",
     "delete_cmd_prefix": "rm(",
     "library": "var_list.r",
     "varRefreshCmd": "cat(var_dic_list()) "
    }
   },
   "types_to_exclude": [
    "module",
    "function",
    "builtin_function_or_method",
    "instance",
    "_Feature"
   ],
   "window_display": false
  }
 },
 "nbformat": 4,
 "nbformat_minor": 5
}
