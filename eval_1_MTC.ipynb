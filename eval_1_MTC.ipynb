{
 "cells": [
  {
   "cell_type": "markdown",
   "id": "7b6172a5",
   "metadata": {},
   "source": [
    "# MTC evaluation\n",
    "\n",
    "### Summary\n",
    "\n",
    "- First initialization  \n",
    "  \n",
    "  \n",
    "- Preliminary assessment: \n",
    "    - parameter tuning, with k-fold cross validation\n",
    "    - comparison across *predict* methods \n",
    "\n",
    "### Main takeaways\n",
    "\n",
    "MTClassifier displayed satisfying results against rather challenging synthetic data.\n",
    "\n",
    "Parameter tuning highlighted that:\n",
    "   - when it comes to number of partitions and maximum tree depth: the higher the value of the parameter, the better the MCC score; \n",
    "   - the number of minimum instances required in a node does not significantly affect the classifier's performance;\n",
    "   - manhattan distance function is featured in the instance with the absolute best MCC - however, euclidean performs better overall;\n",
    "   - MTClustT instances allow for better performance than MTClust;\n",
    "    \n",
    "Hence, from now on MTC will be initialized with:\n",
    " - *n_parts* = 10\n",
    " - *max_depth* = 20\n",
    " - *min_instances* = 5\n",
    " - *use_binary_class* = True \n",
    " - *dist_func* = euclidean\n",
    "  \n",
    "Given that:\n",
    "   - *predict*, *predict_abs*, and *predict_basic* display very similar performances (all MCCs around 0.8)\n",
    "   - the other models we will use for comparison feature a *predict* method, as it is part of scikit-learn's default implementation\n",
    "     \n",
    "we will carry on with the analysis using MTC's *predict* for predictions.\n"
   ]
  },
  {
   "cell_type": "markdown",
   "id": "44cf1977",
   "metadata": {},
   "source": [
    "# 0. First initialization"
   ]
  },
  {
   "cell_type": "markdown",
   "id": "a6130669",
   "metadata": {},
   "source": [
    "Tried an instance of MTC on a **synthetic dataset**, generated with the *make_classification* function \n",
    "from scikit-learn.  \n",
    "\n",
    "MTC is initialized with random parameters.\n",
    "  \n",
    "Results:\n",
    "- MCC = 0.58;\n",
    "- CKS = 0.53.  "
   ]
  },
  {
   "cell_type": "code",
   "execution_count": 2,
   "id": "e81c4fe6",
   "metadata": {
    "code_folding": [
     0
    ]
   },
   "outputs": [],
   "source": [
    "#importing necessary items\n",
    "\n",
    "#our classifier\n",
    "from MTC2 import MTClust, MTClustT, MTClassifier\n",
    "\n",
    "#libraries and packages\n",
    "import pandas as pd\n",
    "import numpy as np\n",
    "import matplotlib.pyplot as plt\n",
    "import seaborn as sns\n",
    "\n",
    "from random import shuffle, sample, seed\n",
    "\n",
    "from sklearn.datasets import make_classification\n",
    "from sklearn.model_selection import train_test_split, KFold\n",
    "from sklearn.metrics import f1_score, confusion_matrix, cohen_kappa_score, matthews_corrcoef\n",
    "from sklearn.preprocessing import StandardScaler\n"
   ]
  },
  {
   "cell_type": "code",
   "execution_count": 100,
   "id": "ca5145a6",
   "metadata": {
    "code_folding": []
   },
   "outputs": [
    {
     "name": "stdout",
     "output_type": "stream",
     "text": [
      "Binary classification\n"
     ]
    },
    {
     "data": {
      "text/plain": [
       "<MTC2.MTClassifier at 0x7f948e78c490>"
      ]
     },
     "execution_count": 100,
     "metadata": {},
     "output_type": "execute_result"
    }
   ],
   "source": [
    "#generating dataset, splitting, scaling, initializing MTC\n",
    "\n",
    "X, y = make_classification(\n",
    "    n_samples=20000,\n",
    "    n_features=20,\n",
    "    n_informative=2, #0.2 informative features\n",
    "    n_redundant=2,\n",
    "    \n",
    "    n_classes=2,\n",
    "    n_clusters_per_class=1, #unimodality\n",
    "    weights=[0.3,0.7], #not too imbalanced\n",
    "    flip_y=0.02,\n",
    "    class_sep=0.6, #low\n",
    "    \n",
    "    random_state=42)\n",
    "\n",
    "X_train, X_test, y_train, y_test = train_test_split(X, y, test_size=0.2, random_state=42)\n",
    "\n",
    "scaler = StandardScaler().fit(X_train)\n",
    "X_train = scaler.transform(X_train)\n",
    "X_test = scaler.transform(X_test)\n",
    "\n",
    "\n",
    "seed(6)\n",
    "mtc = MTClassifier(n_parts=10, max_depth=20, min_instances=5, use_binary_class=True, dist_func=\"euclidean\")\n",
    "\n",
    "mtc.fit(X_train, y_train)"
   ]
  },
  {
   "cell_type": "code",
   "execution_count": 101,
   "id": "739f7692",
   "metadata": {
    "code_folding": []
   },
   "outputs": [
    {
     "name": "stdout",
     "output_type": "stream",
     "text": [
      "MCC: 0.753\n",
      "Cohen's Kappa Score: 0.741\n"
     ]
    }
   ],
   "source": [
    "#predicting, computing metrics\n",
    "\n",
    "y_pred = mtc.predict(X_test)\n",
    "\n",
    "\n",
    "MCC = matthews_corrcoef(y_test, y_pred)\n",
    "print(\"MCC: {:.3f}\".format(MCC))\n",
    "\n",
    "kappa_score = cohen_kappa_score(y_test, y_pred)\n",
    "print(\"Cohen's Kappa Score: {:.3f}\".format(kappa_score))"
   ]
  },
  {
   "cell_type": "code",
   "execution_count": 22,
   "id": "81f4fefb",
   "metadata": {},
   "outputs": [
    {
     "name": "stdout",
     "output_type": "stream",
     "text": [
      "Confusion Matrix:\n",
      "[[ 482  141]\n",
      " [  36 1341]]\n"
     ]
    }
   ],
   "source": [
    "print(\"Confusion Matrix:\")\n",
    "print(confusion_matrix(y_test, y_pred))"
   ]
  },
  {
   "cell_type": "markdown",
   "id": "bef9fcd3",
   "metadata": {},
   "source": [
    "# 1. Preliminary assessment"
   ]
  },
  {
   "cell_type": "markdown",
   "id": "1080f5d6",
   "metadata": {},
   "source": [
    "## 1.1 Parameter tuning"
   ]
  },
  {
   "cell_type": "markdown",
   "id": "2b6e8196",
   "metadata": {},
   "source": [
    "**!**: Tried GridSearchCV: doesn't work because there's no *get_params* method in MTClassifier (more in the report).  \n",
    "**WRITE REPORT**\n",
    "  \n",
    "1. **Grid** is created to store parameters to be tried\n",
    "    - dictionary (parameters are keys, parameter values are values)\n",
    "    - this allows in a number of parameter combinations for MTC to be initialized with   \n",
    "2. **K-fold cross-validation** is set up  \n",
    "3. For each parameter combination:\n",
    "    - MTC is run *k* times\n",
    "    - **Average MCC** across the *k* folds is computed\n",
    "    - and stored in a Pandas dataframe     \n",
    "4. Eventually, combination with **best** average **MCC** is **retrieved** \n",
    "5. **Results** are **visualized**\n",
    "    - Distributions of MCC scores\n",
    "        - absolute\n",
    "        - by parameter\n",
    "    - Heatmaps  \n",
    "    - Pairplots   "
   ]
  },
  {
   "cell_type": "code",
   "execution_count": 24,
   "id": "02daf015",
   "metadata": {
    "code_folding": [
     0
    ]
   },
   "outputs": [],
   "source": [
    "#creating parameters grid\n",
    "\n",
    "parameter_grid = {\n",
    "    'n_parts': [3, 5, 10],\n",
    "    'max_depth': [5, 10, 20], \n",
    "    'min_instances': [5, 15, 25], \n",
    "    'use_binary_class': [True, False],\n",
    "    'dist_func': ['euclidean', 'manhattan'] #no jaccard, because it is tailored for bitwise operations\n",
    "}\n"
   ]
  },
  {
   "cell_type": "code",
   "execution_count": 25,
   "id": "0a881d72",
   "metadata": {
    "code_folding": [
     0
    ],
    "scrolled": true
   },
   "outputs": [
    {
     "name": "stdout",
     "output_type": "stream",
     "text": [
      "Trying parameters: {'n_parts': 3, 'max_depth': 5, 'min_instances': 5, 'use_binary_class': True, 'dist_func': 'euclidean'}\n",
      "Binary classification\n",
      "Binary classification\n",
      "Binary classification\n",
      "Binary classification\n",
      "Average MCC: 0.6199761858771541\n",
      "Trying parameters: {'n_parts': 3, 'max_depth': 5, 'min_instances': 5, 'use_binary_class': True, 'dist_func': 'manhattan'}\n",
      "Binary classification\n",
      "Binary classification\n",
      "Binary classification\n",
      "Binary classification\n",
      "Average MCC: 0.6605543951338972\n",
      "Trying parameters: {'n_parts': 3, 'max_depth': 5, 'min_instances': 5, 'use_binary_class': False, 'dist_func': 'euclidean'}\n",
      "Average MCC: 0.4681801791180233\n",
      "Trying parameters: {'n_parts': 3, 'max_depth': 5, 'min_instances': 5, 'use_binary_class': False, 'dist_func': 'manhattan'}\n",
      "Average MCC: 0.5270657428475977\n",
      "Trying parameters: {'n_parts': 3, 'max_depth': 5, 'min_instances': 15, 'use_binary_class': True, 'dist_func': 'euclidean'}\n",
      "Binary classification\n",
      "Binary classification\n",
      "Binary classification\n",
      "Binary classification\n",
      "Average MCC: 0.6199761858771541\n",
      "Trying parameters: {'n_parts': 3, 'max_depth': 5, 'min_instances': 15, 'use_binary_class': True, 'dist_func': 'manhattan'}\n",
      "Binary classification\n",
      "Binary classification\n",
      "Binary classification\n",
      "Binary classification\n",
      "Average MCC: 0.6605543951338972\n",
      "Trying parameters: {'n_parts': 3, 'max_depth': 5, 'min_instances': 15, 'use_binary_class': False, 'dist_func': 'euclidean'}\n",
      "Average MCC: 0.4678116245356126\n",
      "Trying parameters: {'n_parts': 3, 'max_depth': 5, 'min_instances': 15, 'use_binary_class': False, 'dist_func': 'manhattan'}\n",
      "Average MCC: 0.5274303961856881\n",
      "Trying parameters: {'n_parts': 3, 'max_depth': 5, 'min_instances': 25, 'use_binary_class': True, 'dist_func': 'euclidean'}\n",
      "Binary classification\n",
      "Binary classification\n",
      "Binary classification\n",
      "Binary classification\n",
      "Average MCC: 0.6199761858771541\n",
      "Trying parameters: {'n_parts': 3, 'max_depth': 5, 'min_instances': 25, 'use_binary_class': True, 'dist_func': 'manhattan'}\n",
      "Binary classification\n",
      "Binary classification\n",
      "Binary classification\n",
      "Binary classification\n",
      "Average MCC: 0.6605543951338972\n",
      "Trying parameters: {'n_parts': 3, 'max_depth': 5, 'min_instances': 25, 'use_binary_class': False, 'dist_func': 'euclidean'}\n",
      "Average MCC: 0.4678116245356126\n",
      "Trying parameters: {'n_parts': 3, 'max_depth': 5, 'min_instances': 25, 'use_binary_class': False, 'dist_func': 'manhattan'}\n",
      "Average MCC: 0.5263604666604541\n",
      "Trying parameters: {'n_parts': 3, 'max_depth': 10, 'min_instances': 5, 'use_binary_class': True, 'dist_func': 'euclidean'}\n",
      "Binary classification\n",
      "Binary classification\n",
      "Binary classification\n",
      "Binary classification\n",
      "Average MCC: 0.6786144751260529\n",
      "Trying parameters: {'n_parts': 3, 'max_depth': 10, 'min_instances': 5, 'use_binary_class': True, 'dist_func': 'manhattan'}\n",
      "Binary classification\n",
      "Binary classification\n",
      "Binary classification\n",
      "Binary classification\n",
      "Average MCC: 0.7573857967261755\n",
      "Trying parameters: {'n_parts': 3, 'max_depth': 10, 'min_instances': 5, 'use_binary_class': False, 'dist_func': 'euclidean'}\n",
      "Average MCC: 0.6029236397660039\n",
      "Trying parameters: {'n_parts': 3, 'max_depth': 10, 'min_instances': 5, 'use_binary_class': False, 'dist_func': 'manhattan'}\n",
      "Average MCC: 0.6655945180300631\n",
      "Trying parameters: {'n_parts': 3, 'max_depth': 10, 'min_instances': 15, 'use_binary_class': True, 'dist_func': 'euclidean'}\n",
      "Binary classification\n",
      "Binary classification\n",
      "Binary classification\n",
      "Binary classification\n",
      "Average MCC: 0.6786144751260529\n",
      "Trying parameters: {'n_parts': 3, 'max_depth': 10, 'min_instances': 15, 'use_binary_class': True, 'dist_func': 'manhattan'}\n",
      "Binary classification\n",
      "Binary classification\n",
      "Binary classification\n",
      "Binary classification\n",
      "Average MCC: 0.7573857967261755\n",
      "Trying parameters: {'n_parts': 3, 'max_depth': 10, 'min_instances': 15, 'use_binary_class': False, 'dist_func': 'euclidean'}\n",
      "Average MCC: 0.6074167155156747\n",
      "Trying parameters: {'n_parts': 3, 'max_depth': 10, 'min_instances': 15, 'use_binary_class': False, 'dist_func': 'manhattan'}\n",
      "Average MCC: 0.6640713487503113\n",
      "Trying parameters: {'n_parts': 3, 'max_depth': 10, 'min_instances': 25, 'use_binary_class': True, 'dist_func': 'euclidean'}\n",
      "Binary classification\n",
      "Binary classification\n",
      "Binary classification\n",
      "Binary classification\n",
      "Average MCC: 0.6786144751260529\n",
      "Trying parameters: {'n_parts': 3, 'max_depth': 10, 'min_instances': 25, 'use_binary_class': True, 'dist_func': 'manhattan'}\n",
      "Binary classification\n",
      "Binary classification\n",
      "Binary classification\n",
      "Binary classification\n",
      "Average MCC: 0.7573857967261755\n",
      "Trying parameters: {'n_parts': 3, 'max_depth': 10, 'min_instances': 25, 'use_binary_class': False, 'dist_func': 'euclidean'}\n",
      "Average MCC: 0.5990201387762372\n",
      "Trying parameters: {'n_parts': 3, 'max_depth': 10, 'min_instances': 25, 'use_binary_class': False, 'dist_func': 'manhattan'}\n",
      "Average MCC: 0.6566255440855315\n",
      "Trying parameters: {'n_parts': 3, 'max_depth': 20, 'min_instances': 5, 'use_binary_class': True, 'dist_func': 'euclidean'}\n",
      "Binary classification\n",
      "Binary classification\n",
      "Binary classification\n",
      "Binary classification\n",
      "Average MCC: 0.6892409206812827\n",
      "Trying parameters: {'n_parts': 3, 'max_depth': 20, 'min_instances': 5, 'use_binary_class': True, 'dist_func': 'manhattan'}\n",
      "Binary classification\n",
      "Binary classification\n",
      "Binary classification\n",
      "Binary classification\n",
      "Average MCC: 0.7546850744298867\n",
      "Trying parameters: {'n_parts': 3, 'max_depth': 20, 'min_instances': 5, 'use_binary_class': False, 'dist_func': 'euclidean'}\n",
      "Average MCC: 0.626736610616937\n",
      "Trying parameters: {'n_parts': 3, 'max_depth': 20, 'min_instances': 5, 'use_binary_class': False, 'dist_func': 'manhattan'}\n",
      "Average MCC: 0.6854326238308157\n",
      "Trying parameters: {'n_parts': 3, 'max_depth': 20, 'min_instances': 15, 'use_binary_class': True, 'dist_func': 'euclidean'}\n",
      "Binary classification\n",
      "Binary classification\n",
      "Binary classification\n",
      "Binary classification\n",
      "Average MCC: 0.6892409206812827\n",
      "Trying parameters: {'n_parts': 3, 'max_depth': 20, 'min_instances': 15, 'use_binary_class': True, 'dist_func': 'manhattan'}\n",
      "Binary classification\n",
      "Binary classification\n",
      "Binary classification\n",
      "Binary classification\n",
      "Average MCC: 0.7546850744298867\n",
      "Trying parameters: {'n_parts': 3, 'max_depth': 20, 'min_instances': 15, 'use_binary_class': False, 'dist_func': 'euclidean'}\n",
      "Average MCC: 0.6245013644281736\n",
      "Trying parameters: {'n_parts': 3, 'max_depth': 20, 'min_instances': 15, 'use_binary_class': False, 'dist_func': 'manhattan'}\n",
      "Average MCC: 0.6808563104613595\n",
      "Trying parameters: {'n_parts': 3, 'max_depth': 20, 'min_instances': 25, 'use_binary_class': True, 'dist_func': 'euclidean'}\n",
      "Binary classification\n",
      "Binary classification\n",
      "Binary classification\n",
      "Binary classification\n",
      "Average MCC: 0.6892409206812827\n",
      "Trying parameters: {'n_parts': 3, 'max_depth': 20, 'min_instances': 25, 'use_binary_class': True, 'dist_func': 'manhattan'}\n",
      "Binary classification\n",
      "Binary classification\n",
      "Binary classification\n",
      "Binary classification\n",
      "Average MCC: 0.7546850744298867\n",
      "Trying parameters: {'n_parts': 3, 'max_depth': 20, 'min_instances': 25, 'use_binary_class': False, 'dist_func': 'euclidean'}\n",
      "Average MCC: 0.6142273625562348\n",
      "Trying parameters: {'n_parts': 3, 'max_depth': 20, 'min_instances': 25, 'use_binary_class': False, 'dist_func': 'manhattan'}\n",
      "Average MCC: 0.6716191594328191\n",
      "Trying parameters: {'n_parts': 5, 'max_depth': 5, 'min_instances': 5, 'use_binary_class': True, 'dist_func': 'euclidean'}\n",
      "Binary classification\n",
      "Binary classification\n",
      "Binary classification\n",
      "Binary classification\n",
      "Average MCC: 0.6339974813279323\n",
      "Trying parameters: {'n_parts': 5, 'max_depth': 5, 'min_instances': 5, 'use_binary_class': True, 'dist_func': 'manhattan'}\n",
      "Binary classification\n",
      "Binary classification\n",
      "Binary classification\n",
      "Binary classification\n",
      "Average MCC: 0.6936417181261082\n",
      "Trying parameters: {'n_parts': 5, 'max_depth': 5, 'min_instances': 5, 'use_binary_class': False, 'dist_func': 'euclidean'}\n",
      "Average MCC: 0.49721461866128747\n",
      "Trying parameters: {'n_parts': 5, 'max_depth': 5, 'min_instances': 5, 'use_binary_class': False, 'dist_func': 'manhattan'}\n",
      "Average MCC: 0.554572323283765\n",
      "Trying parameters: {'n_parts': 5, 'max_depth': 5, 'min_instances': 15, 'use_binary_class': True, 'dist_func': 'euclidean'}\n",
      "Binary classification\n",
      "Binary classification\n",
      "Binary classification\n",
      "Binary classification\n"
     ]
    },
    {
     "name": "stdout",
     "output_type": "stream",
     "text": [
      "Average MCC: 0.6339974813279323\n",
      "Trying parameters: {'n_parts': 5, 'max_depth': 5, 'min_instances': 15, 'use_binary_class': True, 'dist_func': 'manhattan'}\n",
      "Binary classification\n",
      "Binary classification\n",
      "Binary classification\n",
      "Binary classification\n",
      "Average MCC: 0.6936417181261082\n",
      "Trying parameters: {'n_parts': 5, 'max_depth': 5, 'min_instances': 15, 'use_binary_class': False, 'dist_func': 'euclidean'}\n",
      "Average MCC: 0.49728342101145756\n",
      "Trying parameters: {'n_parts': 5, 'max_depth': 5, 'min_instances': 15, 'use_binary_class': False, 'dist_func': 'manhattan'}\n",
      "Average MCC: 0.554528567277319\n",
      "Trying parameters: {'n_parts': 5, 'max_depth': 5, 'min_instances': 25, 'use_binary_class': True, 'dist_func': 'euclidean'}\n",
      "Binary classification\n",
      "Binary classification\n",
      "Binary classification\n",
      "Binary classification\n",
      "Average MCC: 0.6339974813279323\n",
      "Trying parameters: {'n_parts': 5, 'max_depth': 5, 'min_instances': 25, 'use_binary_class': True, 'dist_func': 'manhattan'}\n",
      "Binary classification\n",
      "Binary classification\n",
      "Binary classification\n",
      "Binary classification\n",
      "Average MCC: 0.6936417181261082\n",
      "Trying parameters: {'n_parts': 5, 'max_depth': 5, 'min_instances': 25, 'use_binary_class': False, 'dist_func': 'euclidean'}\n",
      "Average MCC: 0.49685850553429545\n",
      "Trying parameters: {'n_parts': 5, 'max_depth': 5, 'min_instances': 25, 'use_binary_class': False, 'dist_func': 'manhattan'}\n",
      "Average MCC: 0.5531320964672757\n",
      "Trying parameters: {'n_parts': 5, 'max_depth': 10, 'min_instances': 5, 'use_binary_class': True, 'dist_func': 'euclidean'}\n",
      "Binary classification\n",
      "Binary classification\n",
      "Binary classification\n",
      "Binary classification\n",
      "Average MCC: 0.7086616433098386\n",
      "Trying parameters: {'n_parts': 5, 'max_depth': 10, 'min_instances': 5, 'use_binary_class': True, 'dist_func': 'manhattan'}\n",
      "Binary classification\n",
      "Binary classification\n",
      "Binary classification\n",
      "Binary classification\n",
      "Average MCC: 0.7797151421457631\n",
      "Trying parameters: {'n_parts': 5, 'max_depth': 10, 'min_instances': 5, 'use_binary_class': False, 'dist_func': 'euclidean'}\n",
      "Average MCC: 0.6331848222903083\n",
      "Trying parameters: {'n_parts': 5, 'max_depth': 10, 'min_instances': 5, 'use_binary_class': False, 'dist_func': 'manhattan'}\n",
      "Average MCC: 0.6971138489272931\n",
      "Trying parameters: {'n_parts': 5, 'max_depth': 10, 'min_instances': 15, 'use_binary_class': True, 'dist_func': 'euclidean'}\n",
      "Binary classification\n",
      "Binary classification\n",
      "Binary classification\n",
      "Binary classification\n",
      "Average MCC: 0.7086616433098386\n",
      "Trying parameters: {'n_parts': 5, 'max_depth': 10, 'min_instances': 15, 'use_binary_class': True, 'dist_func': 'manhattan'}\n",
      "Binary classification\n",
      "Binary classification\n",
      "Binary classification\n",
      "Binary classification\n",
      "Average MCC: 0.7797151421457631\n",
      "Trying parameters: {'n_parts': 5, 'max_depth': 10, 'min_instances': 15, 'use_binary_class': False, 'dist_func': 'euclidean'}\n",
      "Average MCC: 0.6336990500638113\n",
      "Trying parameters: {'n_parts': 5, 'max_depth': 10, 'min_instances': 15, 'use_binary_class': False, 'dist_func': 'manhattan'}\n",
      "Average MCC: 0.695473205728387\n",
      "Trying parameters: {'n_parts': 5, 'max_depth': 10, 'min_instances': 25, 'use_binary_class': True, 'dist_func': 'euclidean'}\n",
      "Binary classification\n",
      "Binary classification\n",
      "Binary classification\n",
      "Binary classification\n",
      "Average MCC: 0.7086616433098386\n",
      "Trying parameters: {'n_parts': 5, 'max_depth': 10, 'min_instances': 25, 'use_binary_class': True, 'dist_func': 'manhattan'}\n",
      "Binary classification\n",
      "Binary classification\n",
      "Binary classification\n",
      "Binary classification\n",
      "Average MCC: 0.7797151421457631\n",
      "Trying parameters: {'n_parts': 5, 'max_depth': 10, 'min_instances': 25, 'use_binary_class': False, 'dist_func': 'euclidean'}\n",
      "Average MCC: 0.6260069827353476\n",
      "Trying parameters: {'n_parts': 5, 'max_depth': 10, 'min_instances': 25, 'use_binary_class': False, 'dist_func': 'manhattan'}\n",
      "Average MCC: 0.687418239667503\n",
      "Trying parameters: {'n_parts': 5, 'max_depth': 20, 'min_instances': 5, 'use_binary_class': True, 'dist_func': 'euclidean'}\n",
      "Binary classification\n",
      "Binary classification\n",
      "Binary classification\n",
      "Binary classification\n",
      "Average MCC: 0.7260988393485531\n",
      "Trying parameters: {'n_parts': 5, 'max_depth': 20, 'min_instances': 5, 'use_binary_class': True, 'dist_func': 'manhattan'}\n",
      "Binary classification\n",
      "Binary classification\n",
      "Binary classification\n",
      "Binary classification\n",
      "Average MCC: 0.7823710629730256\n",
      "Trying parameters: {'n_parts': 5, 'max_depth': 20, 'min_instances': 5, 'use_binary_class': False, 'dist_func': 'euclidean'}\n",
      "Average MCC: 0.6664897143689071\n",
      "Trying parameters: {'n_parts': 5, 'max_depth': 20, 'min_instances': 5, 'use_binary_class': False, 'dist_func': 'manhattan'}\n",
      "Average MCC: 0.7237858615565734\n",
      "Trying parameters: {'n_parts': 5, 'max_depth': 20, 'min_instances': 15, 'use_binary_class': True, 'dist_func': 'euclidean'}\n",
      "Binary classification\n",
      "Binary classification\n",
      "Binary classification\n",
      "Binary classification\n",
      "Average MCC: 0.7260988393485531\n",
      "Trying parameters: {'n_parts': 5, 'max_depth': 20, 'min_instances': 15, 'use_binary_class': True, 'dist_func': 'manhattan'}\n",
      "Binary classification\n",
      "Binary classification\n",
      "Binary classification\n",
      "Binary classification\n",
      "Average MCC: 0.7823710629730256\n",
      "Trying parameters: {'n_parts': 5, 'max_depth': 20, 'min_instances': 15, 'use_binary_class': False, 'dist_func': 'euclidean'}\n",
      "Average MCC: 0.6614077721582245\n",
      "Trying parameters: {'n_parts': 5, 'max_depth': 20, 'min_instances': 15, 'use_binary_class': False, 'dist_func': 'manhattan'}\n",
      "Average MCC: 0.7093874418911608\n",
      "Trying parameters: {'n_parts': 5, 'max_depth': 20, 'min_instances': 25, 'use_binary_class': True, 'dist_func': 'euclidean'}\n",
      "Binary classification\n",
      "Binary classification\n",
      "Binary classification\n",
      "Binary classification\n",
      "Average MCC: 0.7260988393485531\n",
      "Trying parameters: {'n_parts': 5, 'max_depth': 20, 'min_instances': 25, 'use_binary_class': True, 'dist_func': 'manhattan'}\n",
      "Binary classification\n",
      "Binary classification\n",
      "Binary classification\n",
      "Binary classification\n",
      "Average MCC: 0.7823710629730256\n",
      "Trying parameters: {'n_parts': 5, 'max_depth': 20, 'min_instances': 25, 'use_binary_class': False, 'dist_func': 'euclidean'}\n",
      "Average MCC: 0.6389175501857896\n",
      "Trying parameters: {'n_parts': 5, 'max_depth': 20, 'min_instances': 25, 'use_binary_class': False, 'dist_func': 'manhattan'}\n",
      "Average MCC: 0.6962891326805938\n",
      "Trying parameters: {'n_parts': 10, 'max_depth': 5, 'min_instances': 5, 'use_binary_class': True, 'dist_func': 'euclidean'}\n",
      "Binary classification\n",
      "Binary classification\n",
      "Binary classification\n",
      "Binary classification\n",
      "Average MCC: 0.6376656842807037\n",
      "Trying parameters: {'n_parts': 10, 'max_depth': 5, 'min_instances': 5, 'use_binary_class': True, 'dist_func': 'manhattan'}\n",
      "Binary classification\n",
      "Binary classification\n",
      "Binary classification\n",
      "Binary classification\n",
      "Average MCC: 0.7084668208879232\n",
      "Trying parameters: {'n_parts': 10, 'max_depth': 5, 'min_instances': 5, 'use_binary_class': False, 'dist_func': 'euclidean'}\n",
      "Average MCC: 0.47276166409462306\n",
      "Trying parameters: {'n_parts': 10, 'max_depth': 5, 'min_instances': 5, 'use_binary_class': False, 'dist_func': 'manhattan'}\n",
      "Average MCC: 0.5014483343512757\n",
      "Trying parameters: {'n_parts': 10, 'max_depth': 5, 'min_instances': 15, 'use_binary_class': True, 'dist_func': 'euclidean'}\n",
      "Binary classification\n",
      "Binary classification\n",
      "Binary classification\n",
      "Binary classification\n",
      "Average MCC: 0.6376656842807037\n",
      "Trying parameters: {'n_parts': 10, 'max_depth': 5, 'min_instances': 15, 'use_binary_class': True, 'dist_func': 'manhattan'}\n",
      "Binary classification\n",
      "Binary classification\n",
      "Binary classification\n",
      "Binary classification\n",
      "Average MCC: 0.7084668208879232\n",
      "Trying parameters: {'n_parts': 10, 'max_depth': 5, 'min_instances': 15, 'use_binary_class': False, 'dist_func': 'euclidean'}\n",
      "Average MCC: 0.47276166409462306\n",
      "Trying parameters: {'n_parts': 10, 'max_depth': 5, 'min_instances': 15, 'use_binary_class': False, 'dist_func': 'manhattan'}\n",
      "Average MCC: 0.5014483343512757\n",
      "Trying parameters: {'n_parts': 10, 'max_depth': 5, 'min_instances': 25, 'use_binary_class': True, 'dist_func': 'euclidean'}\n",
      "Binary classification\n",
      "Binary classification\n",
      "Binary classification\n",
      "Binary classification\n",
      "Average MCC: 0.6376656842807037\n",
      "Trying parameters: {'n_parts': 10, 'max_depth': 5, 'min_instances': 25, 'use_binary_class': True, 'dist_func': 'manhattan'}\n",
      "Binary classification\n",
      "Binary classification\n"
     ]
    },
    {
     "name": "stdout",
     "output_type": "stream",
     "text": [
      "Binary classification\n",
      "Binary classification\n",
      "Average MCC: 0.7084668208879232\n",
      "Trying parameters: {'n_parts': 10, 'max_depth': 5, 'min_instances': 25, 'use_binary_class': False, 'dist_func': 'euclidean'}\n",
      "Average MCC: 0.47276166409462306\n",
      "Trying parameters: {'n_parts': 10, 'max_depth': 5, 'min_instances': 25, 'use_binary_class': False, 'dist_func': 'manhattan'}\n",
      "Average MCC: 0.5013405563613504\n",
      "Trying parameters: {'n_parts': 10, 'max_depth': 10, 'min_instances': 5, 'use_binary_class': True, 'dist_func': 'euclidean'}\n",
      "Binary classification\n",
      "Binary classification\n",
      "Binary classification\n",
      "Binary classification\n",
      "Average MCC: 0.7458604604704366\n",
      "Trying parameters: {'n_parts': 10, 'max_depth': 10, 'min_instances': 5, 'use_binary_class': True, 'dist_func': 'manhattan'}\n",
      "Binary classification\n",
      "Binary classification\n",
      "Binary classification\n",
      "Binary classification\n",
      "Average MCC: 0.8052692702255284\n",
      "Trying parameters: {'n_parts': 10, 'max_depth': 10, 'min_instances': 5, 'use_binary_class': False, 'dist_func': 'euclidean'}\n",
      "Average MCC: 0.659417238212004\n",
      "Trying parameters: {'n_parts': 10, 'max_depth': 10, 'min_instances': 5, 'use_binary_class': False, 'dist_func': 'manhattan'}\n",
      "Average MCC: 0.7180797285671714\n",
      "Trying parameters: {'n_parts': 10, 'max_depth': 10, 'min_instances': 15, 'use_binary_class': True, 'dist_func': 'euclidean'}\n",
      "Binary classification\n",
      "Binary classification\n",
      "Binary classification\n",
      "Binary classification\n",
      "Average MCC: 0.7458604604704366\n",
      "Trying parameters: {'n_parts': 10, 'max_depth': 10, 'min_instances': 15, 'use_binary_class': True, 'dist_func': 'manhattan'}\n",
      "Binary classification\n",
      "Binary classification\n",
      "Binary classification\n",
      "Binary classification\n",
      "Average MCC: 0.8052692702255284\n",
      "Trying parameters: {'n_parts': 10, 'max_depth': 10, 'min_instances': 15, 'use_binary_class': False, 'dist_func': 'euclidean'}\n",
      "Average MCC: 0.64756169165242\n",
      "Trying parameters: {'n_parts': 10, 'max_depth': 10, 'min_instances': 15, 'use_binary_class': False, 'dist_func': 'manhattan'}\n",
      "Average MCC: 0.7062657789466004\n",
      "Trying parameters: {'n_parts': 10, 'max_depth': 10, 'min_instances': 25, 'use_binary_class': True, 'dist_func': 'euclidean'}\n",
      "Binary classification\n",
      "Binary classification\n",
      "Binary classification\n",
      "Binary classification\n",
      "Average MCC: 0.7458604604704366\n",
      "Trying parameters: {'n_parts': 10, 'max_depth': 10, 'min_instances': 25, 'use_binary_class': True, 'dist_func': 'manhattan'}\n",
      "Binary classification\n",
      "Binary classification\n",
      "Binary classification\n",
      "Binary classification\n",
      "Average MCC: 0.8052692702255284\n",
      "Trying parameters: {'n_parts': 10, 'max_depth': 10, 'min_instances': 25, 'use_binary_class': False, 'dist_func': 'euclidean'}\n",
      "Average MCC: 0.6349298202715687\n",
      "Trying parameters: {'n_parts': 10, 'max_depth': 10, 'min_instances': 25, 'use_binary_class': False, 'dist_func': 'manhattan'}\n",
      "Average MCC: 0.6978116907854515\n",
      "Trying parameters: {'n_parts': 10, 'max_depth': 20, 'min_instances': 5, 'use_binary_class': True, 'dist_func': 'euclidean'}\n",
      "Binary classification\n",
      "Binary classification\n",
      "Binary classification\n",
      "Binary classification\n",
      "Average MCC: 0.7546962008982673\n",
      "Trying parameters: {'n_parts': 10, 'max_depth': 20, 'min_instances': 5, 'use_binary_class': True, 'dist_func': 'manhattan'}\n",
      "Binary classification\n",
      "Binary classification\n",
      "Binary classification\n",
      "Binary classification\n",
      "Average MCC: 0.8135625403511308\n",
      "Trying parameters: {'n_parts': 10, 'max_depth': 20, 'min_instances': 5, 'use_binary_class': False, 'dist_func': 'euclidean'}\n",
      "Average MCC: 0.7001857347801452\n",
      "Trying parameters: {'n_parts': 10, 'max_depth': 20, 'min_instances': 5, 'use_binary_class': False, 'dist_func': 'manhattan'}\n",
      "Average MCC: 0.7598825537481794\n",
      "Trying parameters: {'n_parts': 10, 'max_depth': 20, 'min_instances': 15, 'use_binary_class': True, 'dist_func': 'euclidean'}\n",
      "Binary classification\n",
      "Binary classification\n",
      "Binary classification\n",
      "Binary classification\n",
      "Average MCC: 0.7546962008982673\n",
      "Trying parameters: {'n_parts': 10, 'max_depth': 20, 'min_instances': 15, 'use_binary_class': True, 'dist_func': 'manhattan'}\n",
      "Binary classification\n",
      "Binary classification\n",
      "Binary classification\n",
      "Binary classification\n",
      "Average MCC: 0.8135625403511308\n",
      "Trying parameters: {'n_parts': 10, 'max_depth': 20, 'min_instances': 15, 'use_binary_class': False, 'dist_func': 'euclidean'}\n",
      "Average MCC: 0.6836045730947032\n",
      "Trying parameters: {'n_parts': 10, 'max_depth': 20, 'min_instances': 15, 'use_binary_class': False, 'dist_func': 'manhattan'}\n",
      "Average MCC: 0.7412082220121641\n",
      "Trying parameters: {'n_parts': 10, 'max_depth': 20, 'min_instances': 25, 'use_binary_class': True, 'dist_func': 'euclidean'}\n",
      "Binary classification\n",
      "Binary classification\n",
      "Binary classification\n",
      "Binary classification\n",
      "Average MCC: 0.7546962008982673\n",
      "Trying parameters: {'n_parts': 10, 'max_depth': 20, 'min_instances': 25, 'use_binary_class': True, 'dist_func': 'manhattan'}\n",
      "Binary classification\n",
      "Binary classification\n",
      "Binary classification\n",
      "Binary classification\n",
      "Average MCC: 0.8135625403511308\n",
      "Trying parameters: {'n_parts': 10, 'max_depth': 20, 'min_instances': 25, 'use_binary_class': False, 'dist_func': 'euclidean'}\n",
      "Average MCC: 0.6646639062295943\n",
      "Trying parameters: {'n_parts': 10, 'max_depth': 20, 'min_instances': 25, 'use_binary_class': False, 'dist_func': 'manhattan'}\n",
      "Average MCC: 0.7189504229627705\n",
      "Best Parameters: {'n_parts': 10, 'max_depth': 20, 'min_instances': 5, 'use_binary_class': True, 'dist_func': 'manhattan', 'MCC': 0.8135625403511308}\n",
      "Best Average MCC: 0.8135625403511308\n"
     ]
    }
   ],
   "source": [
    "#evaluating parameter combinations\n",
    "\n",
    "#create Pandas dataframe to store results for each parameter combination\n",
    "results_df = pd.DataFrame(columns=['n_parts', 'max_depth', 'min_instances', \n",
    "                                   'use_binary_class', 'dist_func', 'MCC'])\n",
    "\n",
    "#kfold setup \n",
    "n_folds = 4\n",
    "kf = KFold(n_splits=n_folds, shuffle=True, random_state=42)\n",
    "\n",
    "best_params = None\n",
    "best_MCC = 0\n",
    "\n",
    "from itertools import product\n",
    "\n",
    "#create parameter dictionary from grid\n",
    "for params in product(*parameter_grid.values()):\n",
    "    param_dict = dict(zip(parameter_grid.keys(), params))\n",
    "    print(\"Trying parameters:\", param_dict)\n",
    "\n",
    "    #initializing cumulative MCC score for current parameter combination\n",
    "    cumulative_MCC = 0\n",
    "\n",
    "    #iterating over k folds\n",
    "    for train_index, val_index in kf.split(X_train, y_train):\n",
    "        X_train_fold, X_val_fold = X_train[train_index], X_train[val_index]\n",
    "        y_train_fold, y_val_fold = y_train[train_index], y_train[val_index]\n",
    "\n",
    "        #initialize MTC and train on train fold\n",
    "        seed(11)\n",
    "        mtcPT = MTClassifier(**param_dict)\n",
    "        mtcPT.fit(X_train_fold, y_train_fold)\n",
    "\n",
    "        #predict on validation fold, compute MCC\n",
    "        y_pred_fold = mtcPT.predict(X_val_fold)\n",
    "        cumulative_MCC += matthews_corrcoef(y_val_fold, y_pred_fold)\n",
    "          \n",
    "    #calculate average MCC for current parameter combination\n",
    "    average_MCC = cumulative_MCC / n_folds\n",
    "    print(\"Average MCC:\", average_MCC)\n",
    "\n",
    "    #store results in the Pandas dataframe\n",
    "    param_dict['MCC'] = average_MCC\n",
    "    results_df = pd.concat([results_df, pd.DataFrame([param_dict])], ignore_index=True)\n",
    "     \n",
    "    #if current model is better, update best parameters\n",
    "    if average_MCC > best_MCC:\n",
    "        best_MCC = average_MCC\n",
    "        best_params = param_dict\n",
    "\n",
    "print(\"Best Parameters:\", best_params)\n",
    "print(\"Best Average MCC:\", best_MCC)"
   ]
  },
  {
   "cell_type": "markdown",
   "id": "bbc9fa54",
   "metadata": {},
   "source": [
    "**Best** parameter **combination** is: \n",
    "10 partitions, 20 as maximum depth, minimum of 5 instances, MTClustT, manhattan distance.\n",
    "\n",
    "Average **MCC** associated: **0.81**\n"
   ]
  },
  {
   "cell_type": "markdown",
   "id": "7c60cebe",
   "metadata": {},
   "source": [
    "## 1.2 Visualizing results"
   ]
  },
  {
   "cell_type": "code",
   "execution_count": 59,
   "id": "bb2e7b06",
   "metadata": {
    "code_folding": []
   },
   "outputs": [],
   "source": [
    "#preliminary actions\n",
    "\n",
    "#defining font\n",
    "helv = {'family': 'helvetica',\n",
    "        'weight': 'normal'\n",
    "}\n",
    "\n",
    "#defining color palette\n",
    "import matplotlib.colors as mcolors\n",
    "\n",
    "colors = [\"teal\", \"mediumseagreen\", \"orange\"]\n",
    "cmap_name = \"custom_diverging\"\n",
    "cm = mcolors.LinearSegmentedColormap.from_list(cmap_name, colors, N=100)\n",
    "\n",
    "\n"
   ]
  },
  {
   "cell_type": "markdown",
   "id": "777b1f14",
   "metadata": {},
   "source": [
    "### Overall"
   ]
  },
  {
   "cell_type": "code",
   "execution_count": 74,
   "id": "114791fd",
   "metadata": {
    "code_folding": []
   },
   "outputs": [
    {
     "data": {
      "image/png": "[encoded data removed]",
      "text/plain": [
       "<Figure size 432x288 with 1 Axes>"
      ]
     },
     "metadata": {
      "needs_background": "light"
     },
     "output_type": "display_data"
    }
   ],
   "source": [
    "#distribution of MCCs\n",
    "\n",
    "sns.histplot(data=results_df, x='MCC', bins=15, kde=True, color='teal')\n",
    "plt.xlabel('Average MCC', font=helv, size=13)\n",
    "plt.ylabel('Frequency', font=helv, size=13)\n",
    "\n",
    "plt.show()"
   ]
  },
  {
   "cell_type": "markdown",
   "id": "ad563e4a",
   "metadata": {},
   "source": [
    "### Number of partitions, maximum depth\n",
    "\n",
    "We can see that:\n",
    "- the greater the number of partitions\n",
    "- the higher the maximum depth of the tree\n",
    "\n",
    "the higher the MCC."
   ]
  },
  {
   "cell_type": "code",
   "execution_count": 73,
   "id": "94ea613c",
   "metadata": {
    "code_folding": []
   },
   "outputs": [
    {
     "data": {
      "image/png": "[encoded data removed]",
      "text/plain": [
       "<Figure size 432x288 with 2 Axes>"
      ]
     },
     "metadata": {
      "needs_background": "light"
     },
     "output_type": "display_data"
    }
   ],
   "source": [
    "#heatmap - minimum instances over number of partitions\n",
    "\n",
    "pivot_table = results_df.pivot_table(values='MCC', index='n_parts', columns='max_depth', aggfunc='mean')\n",
    "sns.heatmap(pivot_table, annot=True, cmap=cm)\n",
    "plt.xlabel('Maximum tree depth', font=helv, size=13)\n",
    "plt.ylabel('Number of partitions', font=helv, size=13)\n",
    "\n",
    "plt.show()"
   ]
  },
  {
   "cell_type": "code",
   "execution_count": 76,
   "id": "ef94d292",
   "metadata": {
    "code_folding": []
   },
   "outputs": [
    {
     "data": {
      "image/png": "[encoded data removed]",
      "text/plain": [
       "<Figure size 576x288 with 1 Axes>"
      ]
     },
     "metadata": {
      "needs_background": "light"
     },
     "output_type": "display_data"
    }
   ],
   "source": [
    "#boxplots - number of partitions\n",
    "\n",
    "plt.figure(figsize=(8, 4))\n",
    "sns.boxplot(x='n_parts', y='MCC', data=results_df, palette=['teal','orange','mediumseagreen'])\n",
    "plt.xlabel('Number of Partitions', font=helv, size=13)\n",
    "plt.ylabel('MCC Score', font=helv, size=13)\n",
    "\n",
    "plt.show()"
   ]
  },
  {
   "cell_type": "code",
   "execution_count": 78,
   "id": "ccc4b9a0",
   "metadata": {
    "code_folding": [
     0
    ]
   },
   "outputs": [
    {
     "data": {
      "image/png": "[encoded data removed]",
      "text/plain": [
       "<Figure size 576x288 with 1 Axes>"
      ]
     },
     "metadata": {
      "needs_background": "light"
     },
     "output_type": "display_data"
    }
   ],
   "source": [
    "#boxplots - maximum depth\n",
    "\n",
    "plt.figure(figsize=(8, 4)) \n",
    "sns.boxplot(x='max_depth', y='MCC', data=results_df, palette=['teal','orange','mediumseagreen'])\n",
    "plt.xlabel('Maximum tree depth',  font=helv, size=13)\n",
    "plt.ylabel('MCC', font=helv, size=13)\n",
    "\n",
    "plt.show()"
   ]
  },
  {
   "cell_type": "markdown",
   "id": "7ca17c65",
   "metadata": {},
   "source": [
    "### Minimum instances\n",
    "\n",
    "On the other hand, the number of minimum instances required in a node doesn't seem to significantly influence the MCC."
   ]
  },
  {
   "cell_type": "code",
   "execution_count": 81,
   "id": "17cae282",
   "metadata": {},
   "outputs": [
    {
     "data": {
      "image/png": "[encoded data removed]",
      "text/plain": [
       "<Figure size 432x288 with 2 Axes>"
      ]
     },
     "metadata": {
      "needs_background": "light"
     },
     "output_type": "display_data"
    }
   ],
   "source": [
    "#heatmap - minimum instances over number of partitions\n",
    "\n",
    "pivot_table = results_df.pivot_table(values='MCC', index='n_parts', columns='min_instances', aggfunc='mean')\n",
    "sns.heatmap(pivot_table, annot=True, cmap=cm)\n",
    "plt.xlabel('Minimum node instances', font=helv, size=13)\n",
    "plt.ylabel('Number of partitions', font=helv, size=13)\n",
    "\n",
    "plt.show()"
   ]
  },
  {
   "cell_type": "code",
   "execution_count": 82,
   "id": "a540db64",
   "metadata": {
    "scrolled": false
   },
   "outputs": [
    {
     "data": {
      "image/png": "[encoded data removed]",
      "text/plain": [
       "<Figure size 576x288 with 1 Axes>"
      ]
     },
     "metadata": {
      "needs_background": "light"
     },
     "output_type": "display_data"
    }
   ],
   "source": [
    "#boxplots - minimum instances\n",
    "\n",
    "plt.figure(figsize=(8, 4))\n",
    "sns.boxplot(x='min_instances', y='MCC', data=results_df, palette=['teal','orange','mediumseagreen'])\n",
    "plt.xlabel('Minimum node instances', font=helv, size=13)\n",
    "plt.ylabel('MCC Score', font=helv, size=13)\n",
    "\n",
    "plt.show()"
   ]
  },
  {
   "cell_type": "markdown",
   "id": "aeb44b23",
   "metadata": {},
   "source": [
    "### Distance functions"
   ]
  },
  {
   "cell_type": "code",
   "execution_count": 83,
   "id": "60b573c6",
   "metadata": {},
   "outputs": [
    {
     "data": {
      "image/png": "[encoded data removed]",
      "text/plain": [
       "<Figure size 576x288 with 1 Axes>"
      ]
     },
     "metadata": {
      "needs_background": "light"
     },
     "output_type": "display_data"
    }
   ],
   "source": [
    "#boxplots - distance function\n",
    "\n",
    "plt.figure(figsize=(8, 4))\n",
    "sns.boxplot(x='dist_func', y='MCC', data=results_df, palette=['teal','orange','mediumseagreen'])\n",
    "plt.xlabel('Distance function', font=helv, size=13)\n",
    "plt.ylabel('MCC Score', font=helv, size=13)\n",
    "\n",
    "plt.show()"
   ]
  },
  {
   "cell_type": "markdown",
   "id": "bd4634e4",
   "metadata": {},
   "source": [
    "### Binary class vs Clustering approach\n",
    "\n",
    "The pairplot shows how results for instances of the target-oriented classifier are consistently better. "
   ]
  },
  {
   "cell_type": "code",
   "execution_count": 84,
   "id": "46ad7f54",
   "metadata": {
    "scrolled": true
   },
   "outputs": [
    {
     "data": {
      "image/png": "[encoded data removed]",
      "text/plain": [
       "<Figure size 632.375x540 with 12 Axes>"
      ]
     },
     "metadata": {
      "needs_background": "light"
     },
     "output_type": "display_data"
    }
   ],
   "source": [
    "#pairplot - MTClust vs MTClustT\n",
    "\n",
    "sns.pairplot(data=results_df, vars=['n_parts', 'max_depth', 'MCC'], hue='use_binary_class', palette=['teal','orange'])\n",
    "\n",
    "plt.show()"
   ]
  },
  {
   "cell_type": "markdown",
   "id": "110b97cc",
   "metadata": {},
   "source": [
    "## 1.3 *Predict* methods comparison\n",
    "\n",
    "MTClassifier features **four different methods** for prediction (see *MTC_code_descr*).\n",
    "\n",
    "However, **MCCs** for predictions resulting from the different methods are **not significantly different**. \n",
    "  \n",
    "For this reason, we decided to carry on with the analysis implementing the *predict* method, as it is the one used by the machine learning algorithm we are going to evaluate MTClassifier against. "
   ]
  },
  {
   "cell_type": "code",
   "execution_count": 87,
   "id": "c61ac4be",
   "metadata": {
    "code_folding": []
   },
   "outputs": [
    {
     "name": "stdout",
     "output_type": "stream",
     "text": [
      "Binary classification\n",
      "  1 partition\n",
      "  2 partition\n",
      "  3 partition\n",
      "  4 partition\n",
      "  5 partition\n",
      "  6 partition\n",
      "  7 partition\n",
      "  8 partition\n",
      "  9 partition\n",
      " 10 partition\n"
     ]
    },
    {
     "data": {
      "text/plain": [
       "<MTC2.MTClassifier at 0x7f948e799430>"
      ]
     },
     "execution_count": 87,
     "metadata": {},
     "output_type": "execute_result"
    }
   ],
   "source": [
    "#create new dataset\n",
    "\n",
    "seed(10)\n",
    "X_pm, y_pm = make_classification(\n",
    "    n_samples=30000,\n",
    "    n_features=20,\n",
    "    n_informative=4,\n",
    "    \n",
    "    n_classes=2,\n",
    "    n_clusters_per_class=1,\n",
    "    weights=[0.3,0.7], \n",
    "    class_sep=0.7, \n",
    "    \n",
    "    random_state=42)\n",
    "\n",
    "#train/test split\n",
    "X_train_pm, X_test_pm, y_train_pm, y_test_pm = train_test_split(X_pm, y_pm, test_size=0.2, random_state=42)\n",
    "\n",
    "#initializing MTC with best parameters, fitting\n",
    "mtc = MTClassifier(n_parts=10, max_depth=20, min_instances=5, use_binary_class=True, dist_func='euclidean')\n",
    "mtc.fit(X_train_pm, y_train_pm, verbose=True)"
   ]
  },
  {
   "cell_type": "code",
   "execution_count": 88,
   "id": "c15be617",
   "metadata": {
    "code_folding": [
     0
    ]
   },
   "outputs": [
    {
     "name": "stdout",
     "output_type": "stream",
     "text": [
      "MCC using predict_basic: 71.23%\n",
      "MCC using predict_abs: 71.09%\n",
      "MCC using predict: 72.06%\n"
     ]
    }
   ],
   "source": [
    "#predicting with MTCs different predict methods \n",
    "y_pred_basic = mtc.predict_basic(X_test_pm)\n",
    "mcc_basic = matthews_corrcoef(y_test_pm, y_pred_basic)\n",
    "print(f\"MCC using predict_basic: {mcc_basic*100:.2f}%\")\n",
    "\n",
    "y_pred_abs = mtc.predict_abs(X_test_pm)\n",
    "mcc_abs = matthews_corrcoef(y_test_pm, y_pred_abs)\n",
    "print(f\"MCC using predict_abs: {mcc_abs*100:.2f}%\")\n",
    "\n",
    "y_pred = mtc.predict(X_test_pm)\n",
    "mcc = matthews_corrcoef(y_test_pm, y_pred)\n",
    "print(f\"MCC using predict: {mcc*100:.2f}%\")"
   ]
  },
  {
   "cell_type": "code",
   "execution_count": 89,
   "id": "0c98878b",
   "metadata": {
    "code_folding": [
     0
    ]
   },
   "outputs": [
    {
     "name": "stdout",
     "output_type": "stream",
     "text": [
      "Probabilities for test sample 1: [1.95344615e-09 9.99999998e-01]\n",
      "Probabilities for test sample 2: [1.91599507e-16 1.00000000e+00]\n",
      "Probabilities for test sample 3: [1.28624652e-15 1.00000000e+00]\n",
      "Probabilities for test sample 4: [9.99999304e-01 6.96468567e-07]\n",
      "Probabilities for test sample 5: [1.82603278e-09 9.99999998e-01]\n"
     ]
    }
   ],
   "source": [
    "#predicting with predict_proba\n",
    "y_pred_proba = mtc.predict_proba(X_test_pm)\n",
    "\n",
    "for i, probs in enumerate(y_pred_proba[:5]):\n",
    "    print(f\"Probabilities for test sample {i+1}: {probs}\")"
   ]
  },
  {
   "cell_type": "code",
   "execution_count": null,
   "id": "a255714f",
   "metadata": {},
   "outputs": [],
   "source": []
  }
 ],
 "metadata": {
  "kernelspec": {
   "display_name": "Python 3 (ipykernel)",
   "language": "python",
   "name": "python3"
  },
  "language_info": {
   "codemirror_mode": {
    "name": "ipython",
    "version": 3
   },
   "file_extension": ".py",
   "mimetype": "text/x-python",
   "name": "python",
   "nbconvert_exporter": "python",
   "pygments_lexer": "ipython3",
   "version": "3.9.12"
  },
  "toc": {
   "base_numbering": 1,
   "nav_menu": {},
   "number_sections": true,
   "sideBar": true,
   "skip_h1_title": false,
   "title_cell": "Table of Contents",
   "title_sidebar": "Contents",
   "toc_cell": false,
   "toc_position": {},
   "toc_section_display": true,
   "toc_window_display": false
  },
  "varInspector": {
   "cols": {
    "lenName": 16,
    "lenType": 16,
    "lenVar": 40
   },
   "kernels_config": {
    "python": {
     "delete_cmd_postfix": "",
     "delete_cmd_prefix": "del ",
     "library": "var_list.py",
     "varRefreshCmd": "print(var_dic_list())"
    },
    "r": {
     "delete_cmd_postfix": ") ",
     "delete_cmd_prefix": "rm(",
     "library": "var_list.r",
     "varRefreshCmd": "cat(var_dic_list()) "
    }
   },
   "types_to_exclude": [
    "module",
    "function",
    "builtin_function_or_method",
    "instance",
    "_Feature"
   ],
   "window_display": false
  }
 },
 "nbformat": 4,
 "nbformat_minor": 5
}
